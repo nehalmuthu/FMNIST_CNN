{
 "cells": [
  {
   "cell_type": "markdown",
   "metadata": {},
   "source": [
    "# Before\n",
    "It's my first time to creat a neural network, please correct me if there is anything wrong in the notebook"
   ]
  },
  {
   "cell_type": "markdown",
   "metadata": {
    "id": "6Y6YnQPE_d3f"
   },
   "source": [
    "# About Fashion MNIST"
   ]
  },
  {
   "cell_type": "markdown",
   "metadata": {
    "id": "dKcAz7t9_d3i"
   },
   "source": [
    "Here are the categories in the Fashion-MNIST\n",
    "\n",
    "|Label | Class |\n",
    "|-|-|\n",
    "|0|\tT-shirt/top|\n",
    "|1|\tTrouser|\n",
    "|2|\tPullover|\n",
    "|3|\tDress|\n",
    "|4|\tCoat|\n",
    "|5|\tSandal|\n",
    "|6|\tShirt|\n",
    "|7|\tSneaker|\n",
    "|8|\tBag|\n",
    "|9|\tAnkle boot|\n",
    "\n"
   ]
  },
  {
   "cell_type": "markdown",
   "metadata": {},
   "source": [
    "# Ready to work"
   ]
  },
  {
   "cell_type": "code",
   "execution_count": 1,
   "metadata": {
    "execution": {
     "iopub.execute_input": "2022-06-29T02:32:49.908675Z",
     "iopub.status.busy": "2022-06-29T02:32:49.90837Z",
     "iopub.status.idle": "2022-06-29T02:32:52.245783Z",
     "shell.execute_reply": "2022-06-29T02:32:52.245053Z",
     "shell.execute_reply.started": "2022-06-29T02:32:49.908625Z"
    },
    "id": "so9k_W_C_d3j",
    "outputId": "f7f623ba-6d93-4bed-a1e1-588fb938f075"
   },
   "outputs": [],
   "source": [
    "import os\n",
    "import torch\n",
    "import torchvision\n",
    "import numpy as np\n",
    "import pandas as pd\n",
    "import torch.nn as nn\n",
    "import torch.optim as optim\n",
    "import matplotlib.pyplot as plt\n",
    "import torch.nn.functional as F\n",
    "from PIL import Image\n",
    "from torchvision import transforms, datasets\n",
    "from torch.utils.data import Dataset, DataLoader"
   ]
  },
  {
   "cell_type": "markdown",
   "metadata": {},
   "source": [
    "Define some global variables"
   ]
  },
  {
   "cell_type": "code",
   "execution_count": 2,
   "metadata": {
    "execution": {
     "iopub.execute_input": "2022-06-29T02:32:56.725417Z",
     "iopub.status.busy": "2022-06-29T02:32:56.72507Z",
     "iopub.status.idle": "2022-06-29T02:32:56.810399Z",
     "shell.execute_reply": "2022-06-29T02:32:56.809343Z",
     "shell.execute_reply.started": "2022-06-29T02:32:56.725359Z"
    }
   },
   "outputs": [
    {
     "name": "stdout",
     "output_type": "stream",
     "text": [
      "1.4.0\n",
      "cuda\n"
     ]
    }
   ],
   "source": [
    "# training batches of our network\n",
    "EPOCHS = 10\n",
    "# size of each batch\n",
    "BATCH_SIZE = 512\n",
    "\n",
    "DEVICE = (\"cuda\" if torch.cuda.is_available() else \"cpu\")\n",
    "class_names = ['T-shirt/top', 'Trouser', 'Pullover', 'Dress', 'Coat',\n",
    "               'Sandal', 'Shirt', 'Sneaker', 'Bag', 'Ankle boot']\n",
    "\n",
    "print(torch.__version__)\n",
    "print(DEVICE)"
   ]
  },
  {
   "cell_type": "markdown",
   "metadata": {
    "id": "fcnXRreC_d3o"
   },
   "source": [
    "# Load data"
   ]
  },
  {
   "cell_type": "markdown",
   "metadata": {},
   "source": [
    "There are two ways to laod the Fashion-MNIST dataset:\n",
    "\n",
    "* use the dataset given in the `datasets.FashionMNIST`\n",
    "* use raw data \n",
    "\n",
    "Here I use the data on Kaggle, so we need to build the `dataset`\n",
    "\n",
    "Firstly, import the '.csv' files with `pd.read_csv`"
   ]
  },
  {
   "cell_type": "code",
   "execution_count": 3,
   "metadata": {
    "execution": {
     "iopub.execute_input": "2022-06-29T02:33:00.814178Z",
     "iopub.status.busy": "2022-06-29T02:33:00.813856Z",
     "iopub.status.idle": "2022-06-29T02:33:08.197531Z",
     "shell.execute_reply": "2022-06-29T02:33:08.196343Z",
     "shell.execute_reply.started": "2022-06-29T02:33:00.814124Z"
    },
    "id": "xa4spfPd_d3p",
    "outputId": "5405f83a-9c0e-4a85-cdf1-6947cd19c2bf"
   },
   "outputs": [
    {
     "name": "stdout",
     "output_type": "stream",
     "text": [
      "(60000, 785)\n",
      "(10000, 785)\n"
     ]
    }
   ],
   "source": [
    "train_csv = pd.read_csv('/kaggle/input/fashionmnist/fashion-mnist_train.csv')\n",
    "test_csv = pd.read_csv('/kaggle/input/fashionmnist/fashion-mnist_test.csv')\n",
    "\n",
    "\n",
    "print(train_csv.shape)\n",
    "print(test_csv.shape)"
   ]
  },
  {
   "cell_type": "code",
   "execution_count": 4,
   "metadata": {
    "execution": {
     "iopub.execute_input": "2022-06-29T02:33:08.2764Z",
     "iopub.status.busy": "2022-06-29T02:33:08.2759Z",
     "iopub.status.idle": "2022-06-29T02:33:08.320227Z",
     "shell.execute_reply": "2022-06-29T02:33:08.319307Z",
     "shell.execute_reply.started": "2022-06-29T02:33:08.276346Z"
    },
    "id": "cI5Ce0bx_d3x",
    "outputId": "e592caaa-aec5-48b6-b13d-499d2b1cef81"
   },
   "outputs": [
    {
     "name": "stdout",
     "output_type": "stream",
     "text": [
      "<class 'pandas.core.frame.DataFrame'>\n",
      "RangeIndex: 60000 entries, 0 to 59999\n",
      "Columns: 785 entries, label to pixel784\n",
      "dtypes: int64(785)\n",
      "memory usage: 359.3 MB\n",
      "None\n",
      "   label  pixel1  pixel2  pixel3  pixel4  pixel5  pixel6  pixel7  pixel8  \\\n",
      "0      2       0       0       0       0       0       0       0       0   \n",
      "1      9       0       0       0       0       0       0       0       0   \n",
      "2      6       0       0       0       0       0       0       0       5   \n",
      "3      0       0       0       0       1       2       0       0       0   \n",
      "4      3       0       0       0       0       0       0       0       0   \n",
      "\n",
      "   pixel9  ...  pixel775  pixel776  pixel777  pixel778  pixel779  pixel780  \\\n",
      "0       0  ...         0         0         0         0         0         0   \n",
      "1       0  ...         0         0         0         0         0         0   \n",
      "2       0  ...         0         0         0        30        43         0   \n",
      "3       0  ...         3         0         0         0         0         1   \n",
      "4       0  ...         0         0         0         0         0         0   \n",
      "\n",
      "   pixel781  pixel782  pixel783  pixel784  \n",
      "0         0         0         0         0  \n",
      "1         0         0         0         0  \n",
      "2         0         0         0         0  \n",
      "3         0         0         0         0  \n",
      "4         0         0         0         0  \n",
      "\n",
      "[5 rows x 785 columns]\n"
     ]
    }
   ],
   "source": [
    "print(train_csv.info())\n",
    "print(train_csv.head())"
   ]
  },
  {
   "cell_type": "markdown",
   "metadata": {},
   "source": [
    "As the output, the first row is the label of each image, and each image has 784 pixels"
   ]
  },
  {
   "cell_type": "markdown",
   "metadata": {},
   "source": [
    "## Dataset"
   ]
  },
  {
   "cell_type": "markdown",
   "metadata": {
    "id": "AKOUAY4s_d37"
   },
   "source": [
    "To build our own dataset, need to create a class that inherits from the `Dataset`. Besides, function `get_item()` & `len()` must be defined at least\n",
    "\n",
    "- `get_item()` return the specified image and its label\n",
    "- `len()` return the number of dataset"
   ]
  },
  {
   "cell_type": "code",
   "execution_count": 5,
   "metadata": {
    "execution": {
     "iopub.execute_input": "2022-06-29T02:33:12.004476Z",
     "iopub.status.busy": "2022-06-29T02:33:12.004149Z",
     "iopub.status.idle": "2022-06-29T02:33:12.014236Z",
     "shell.execute_reply": "2022-06-29T02:33:12.013234Z",
     "shell.execute_reply.started": "2022-06-29T02:33:12.004424Z"
    },
    "id": "ZzgxwITL_d38"
   },
   "outputs": [],
   "source": [
    "class FashionDataset(Dataset):\n",
    "    def __init__(self, data, transform=None):        \n",
    "        self.fashion_MNIST = list(data.values)\n",
    "        self.transform = transform\n",
    "        \n",
    "        label, image = [], []\n",
    "        \n",
    "        for i in self.fashion_MNIST:\n",
    "            label.append(i[0])\n",
    "            image.append(i[1:])\n",
    "        self.labels = np.asarray(label)\n",
    "        self.images = np.asarray(image).reshape(-1, 28, 28).astype('float32')\n",
    "        \n",
    "    def __len__(self):\n",
    "        return len(self.images)\n",
    "    \n",
    "    def __getitem__(self, idx):\n",
    "        label = self.labels[idx]\n",
    "        image = self.images[idx]      \n",
    "        \n",
    "        if self.transform is not None:\n",
    "            # transfrom the numpy array to PIL image before the transform function\n",
    "            pil_image = Image.fromarray(np.uint8(image)) \n",
    "            image = self.transform(pil_image)\n",
    "            \n",
    "        return image, label"
   ]
  },
  {
   "cell_type": "markdown",
   "metadata": {},
   "source": [
    "## Transform"
   ]
  },
  {
   "cell_type": "markdown",
   "metadata": {
    "id": "Vpej90-i_d3_"
   },
   "source": [
    "Because the input size of AlexNet is $227*227$, and the image size of Fashion-MNIST is $28*28$, so we need to resize the image in the transform function\n",
    "> Since `transforms.Resize()` only works to the PIL Image,we transform the numpy array to PIL Image above"
   ]
  },
  {
   "cell_type": "code",
   "execution_count": 6,
   "metadata": {
    "execution": {
     "iopub.execute_input": "2022-06-29T02:33:15.028203Z",
     "iopub.status.busy": "2022-06-29T02:33:15.027894Z",
     "iopub.status.idle": "2022-06-29T02:33:15.033781Z",
     "shell.execute_reply": "2022-06-29T02:33:15.032506Z",
     "shell.execute_reply.started": "2022-06-29T02:33:15.028149Z"
    },
    "id": "V_xGJIzw_d4A"
   },
   "outputs": [],
   "source": [
    "AlexTransform = transforms.Compose([\n",
    "    transforms.Resize((227, 227)),\n",
    "    transforms.ToTensor(),\n",
    "    transforms.Normalize((0.1307,), (0.3081,))\n",
    "])"
   ]
  },
  {
   "cell_type": "markdown",
   "metadata": {
    "id": "1firajBn_d4E"
   },
   "source": [
    "## DataLoader"
   ]
  },
  {
   "cell_type": "code",
   "execution_count": 7,
   "metadata": {
    "execution": {
     "iopub.execute_input": "2022-06-29T02:33:19.411531Z",
     "iopub.status.busy": "2022-06-29T02:33:19.411192Z",
     "iopub.status.idle": "2022-06-29T02:33:19.815852Z",
     "shell.execute_reply": "2022-06-29T02:33:19.814965Z",
     "shell.execute_reply.started": "2022-06-29T02:33:19.411476Z"
    },
    "id": "KbxiLT1f_d4F"
   },
   "outputs": [],
   "source": [
    "train_loader = DataLoader(\n",
    "    FashionDataset(train_csv, transform=AlexTransform), \n",
    "    batch_size=BATCH_SIZE, shuffle=True)\n",
    "\n",
    "test_loader = DataLoader(\n",
    "    FashionDataset(test_csv, transform=AlexTransform), \n",
    "    batch_size=BATCH_SIZE, shuffle=True)"
   ]
  },
  {
   "cell_type": "markdown",
   "metadata": {},
   "source": [
    "## Show images"
   ]
  },
  {
   "cell_type": "code",
   "execution_count": 8,
   "metadata": {
    "execution": {
     "iopub.execute_input": "2022-06-29T02:33:24.044354Z",
     "iopub.status.busy": "2022-06-29T02:33:24.044026Z",
     "iopub.status.idle": "2022-06-29T02:33:24.635023Z",
     "shell.execute_reply": "2022-06-29T02:33:24.63191Z",
     "shell.execute_reply.started": "2022-06-29T02:33:24.044299Z"
    }
   },
   "outputs": [
    {
     "name": "stdout",
     "output_type": "stream",
     "text": [
      "Shirt\n"
     ]
    },
    {
     "data": {
      "image/png": "[encoded data removed]",
      "text/plain": [
       "<Figure size 432x288 with 1 Axes>"
      ]
     },
     "metadata": {
      "needs_background": "light"
     },
     "output_type": "display_data"
    }
   ],
   "source": [
    "# helper function to show an image\n",
    "def matplotlib_imshow(img):\n",
    "    img = img.mean(dim=0)\n",
    "    img = img / 2 + 0.5     # unnormalize\n",
    "    npimg = img.numpy()\n",
    "    plt.imshow(npimg, cmap=\"Greys\")\n",
    "\n",
    "# get some random training images\n",
    "dataiter = iter(train_loader)\n",
    "images, labels = dataiter.next()\n",
    "\n",
    "# creat grid of images\n",
    "img_grid = torchvision.utils.make_grid(images[0])\n",
    "\n",
    "# show images & labels\n",
    "matplotlib_imshow(img_grid)\n",
    "print(class_names[labels[0]])"
   ]
  },
  {
   "cell_type": "markdown",
   "metadata": {
    "id": "DJPnzI7O_d4I"
   },
   "source": [
    "# AlexNet"
   ]
  },
  {
   "cell_type": "markdown",
   "metadata": {},
   "source": [
    "![](https://i.loli.net/2020/02/17/xd6oNRpWSK1cZy2.png)"
   ]
  },
  {
   "cell_type": "code",
   "execution_count": 9,
   "metadata": {
    "execution": {
     "iopub.execute_input": "2022-06-29T02:33:28.517582Z",
     "iopub.status.busy": "2022-06-29T02:33:28.517281Z",
     "iopub.status.idle": "2022-06-29T02:33:28.532994Z",
     "shell.execute_reply": "2022-06-29T02:33:28.531601Z",
     "shell.execute_reply.started": "2022-06-29T02:33:28.517534Z"
    },
    "id": "pAi4_TFU_d4J"
   },
   "outputs": [],
   "source": [
    "class fasion_mnist_alexnet(nn.Module):  \n",
    "    def __init__(self):\n",
    "        super().__init__()\n",
    "        self.conv1 = nn.Sequential(\n",
    "            nn.Conv2d(in_channels=1, out_channels=96, kernel_size=11, stride=4, padding=0),\n",
    "            nn.ReLU(),\n",
    "            nn.MaxPool2d(kernel_size=3, stride=2)\n",
    "        )\n",
    "        self.conv2 = nn.Sequential(\n",
    "            nn.Conv2d(96, 256, 5, 1, 2),\n",
    "            nn.ReLU(),\n",
    "            nn.MaxPool2d(3, 2)\n",
    "        )\n",
    "        self.conv3 = nn.Sequential(\n",
    "            nn.Conv2d(256, 384, 3, 1, 1),\n",
    "            nn.ReLU()\n",
    "        )\n",
    "        self.conv4 = nn.Sequential(\n",
    "            nn.Conv2d(384, 384, 3, 1, 1),\n",
    "            nn.ReLU()\n",
    "        )\n",
    "        self.conv5 = nn.Sequential(\n",
    "            nn.Conv2d(384, 256, 3, 1, 1),\n",
    "            nn.ReLU(),\n",
    "            nn.MaxPool2d(3, 2)\n",
    "        )\n",
    "\n",
    "        self.fc1 = nn.Linear(256 * 6 * 6, 4096)\n",
    "        self.fc2 = nn.Linear(4096, 4096)\n",
    "        self.fc3 = nn.Linear(4096, 10)\n",
    "\n",
    "    def forward(self, x):\n",
    "        out = self.conv1(x)\n",
    "        out = self.conv2(out)\n",
    "        out = self.conv3(out)\n",
    "        out = self.conv4(out)\n",
    "        out = self.conv5(out)\n",
    "        out = out.view(out.size(0), -1)\n",
    "\n",
    "        out = F.relu(self.fc1(out))  # 256*6*6 -> 4096\n",
    "        out = F.dropout(out, 0.5)\n",
    "        out = F.relu(self.fc2(out))\n",
    "        out = F.dropout(out, 0.5)\n",
    "        out = self.fc3(out)\n",
    "        out = F.log_softmax(out, dim=1)\n",
    "\n",
    "        return out\n"
   ]
  },
  {
   "cell_type": "markdown",
   "metadata": {
    "id": "htbYHgHnZP0r"
   },
   "source": [
    "# model\n"
   ]
  },
  {
   "cell_type": "code",
   "execution_count": 10,
   "metadata": {
    "execution": {
     "iopub.execute_input": "2022-06-29T02:33:31.900354Z",
     "iopub.status.busy": "2022-06-29T02:33:31.899987Z",
     "iopub.status.idle": "2022-06-29T02:33:36.310075Z",
     "shell.execute_reply": "2022-06-29T02:33:36.309235Z",
     "shell.execute_reply.started": "2022-06-29T02:33:31.900268Z"
    },
    "id": "1SqUo_21_d4M"
   },
   "outputs": [],
   "source": [
    "model = fasion_mnist_alexnet().to(DEVICE)\n",
    "criterion = F.nll_loss\n",
    "optimizer = optim.Adam(model.parameters())"
   ]
  },
  {
   "cell_type": "markdown",
   "metadata": {
    "id": "yOhyXpQNZUVI"
   },
   "source": [
    "## train funation"
   ]
  },
  {
   "cell_type": "code",
   "execution_count": 11,
   "metadata": {
    "execution": {
     "iopub.execute_input": "2022-06-29T02:33:42.414751Z",
     "iopub.status.busy": "2022-06-29T02:33:42.414408Z",
     "iopub.status.idle": "2022-06-29T02:33:42.422904Z",
     "shell.execute_reply": "2022-06-29T02:33:42.421891Z",
     "shell.execute_reply.started": "2022-06-29T02:33:42.414699Z"
    },
    "id": "4X8gTFBh_d4O"
   },
   "outputs": [],
   "source": [
    "def train(model, device, train_loader, optimer, epoch):\n",
    "    model.train()\n",
    "    for batch_idx, (data, target) in enumerate(train_loader):\n",
    "        target = target.type(torch.LongTensor)\n",
    "        data, target = data.to(device), target.to(device)\n",
    "        optimizer.zero_grad()\n",
    "        output = model(data)\n",
    "        loss = criterion(output, target)\n",
    "        loss.backward()\n",
    "        optimizer.step()\n",
    "        if (batch_idx + 1) % 30 == 0:\n",
    "            print(\"Train Epoch:{} [{}/{} ({:.0f}%)]\\tLoss: {:.6f}\".format(\n",
    "                epoch, batch_idx * len(data), len(train_loader.dataset),\n",
    "                100. * batch_idx / len(train_loader), loss.item()))"
   ]
  },
  {
   "cell_type": "markdown",
   "metadata": {
    "id": "w4cCPiOPZXkC"
   },
   "source": [
    "## test function\n"
   ]
  },
  {
   "cell_type": "code",
   "execution_count": 12,
   "metadata": {
    "execution": {
     "iopub.execute_input": "2022-06-29T02:33:44.51642Z",
     "iopub.status.busy": "2022-06-29T02:33:44.516068Z",
     "iopub.status.idle": "2022-06-29T02:33:44.52476Z",
     "shell.execute_reply": "2022-06-29T02:33:44.523755Z",
     "shell.execute_reply.started": "2022-06-29T02:33:44.516357Z"
    },
    "id": "kGhwH-H-_d4S"
   },
   "outputs": [],
   "source": [
    "def test(model, device, test_loader):\n",
    "    model.eval()\n",
    "    test_loss = 0\n",
    "    correct = 0\n",
    "    with torch.no_grad():\n",
    "        for data, target in test_loader:\n",
    "            data, target = data.to(device), target.to(device)\n",
    "            output = model(data)\n",
    "            test_loss += criterion(output, target, reduction='sum').item()\n",
    "            pred = output.max(1, keepdim=True)[1]\n",
    "            correct += pred.eq(target.view_as(pred)).sum().item()\n",
    "\n",
    "        test_loss /= len(test_loader.dataset)  # loss之和除以data数量 -> mean\n",
    "        print(\"\\nTest set: Average loss: {:.4f}, Accuracy: {}/{} ({:.0f}%)\\n\".format(\n",
    "            test_loss, correct, len(test_loader.dataset), 100. * correct / len(test_loader.dataset)))\n",
    "        print('='*50)\n"
   ]
  },
  {
   "cell_type": "markdown",
   "metadata": {
    "id": "wy6-W8TFZa-5"
   },
   "source": [
    "# Begin to Train"
   ]
  },
  {
   "cell_type": "code",
   "execution_count": 13,
   "metadata": {
    "execution": {
     "iopub.execute_input": "2022-06-29T02:33:48.347948Z",
     "iopub.status.busy": "2022-06-29T02:33:48.347634Z",
     "iopub.status.idle": "2022-06-29T02:43:34.938389Z",
     "shell.execute_reply": "2022-06-29T02:43:34.937434Z",
     "shell.execute_reply.started": "2022-06-29T02:33:48.347896Z"
    },
    "id": "Iy6cq2T2_d4V",
    "outputId": "86636d99-e424-480c-d569-eaa7b2fe0c78"
   },
   "outputs": [
    {
     "name": "stdout",
     "output_type": "stream",
     "text": [
      "Train Epoch:1 [14848/60000 (25%)]\tLoss: 0.944481\n",
      "Train Epoch:1 [30208/60000 (50%)]\tLoss: 0.645032\n",
      "Train Epoch:1 [45568/60000 (75%)]\tLoss: 0.468598\n",
      "\n",
      "Test set: Average loss: 0.4330, Accuracy: 8398/10000 (84%)\n",
      "\n",
      "==================================================\n",
      "Train Epoch:2 [14848/60000 (25%)]\tLoss: 0.436709\n",
      "Train Epoch:2 [30208/60000 (50%)]\tLoss: 0.395684\n",
      "Train Epoch:2 [45568/60000 (75%)]\tLoss: 0.354000\n",
      "\n",
      "Test set: Average loss: 0.3401, Accuracy: 8734/10000 (87%)\n",
      "\n",
      "==================================================\n",
      "Train Epoch:3 [14848/60000 (25%)]\tLoss: 0.320092\n",
      "Train Epoch:3 [30208/60000 (50%)]\tLoss: 0.344190\n",
      "Train Epoch:3 [45568/60000 (75%)]\tLoss: 0.294369\n",
      "\n",
      "Test set: Average loss: 0.2999, Accuracy: 8885/10000 (89%)\n",
      "\n",
      "==================================================\n",
      "Train Epoch:4 [14848/60000 (25%)]\tLoss: 0.247547\n",
      "Train Epoch:4 [30208/60000 (50%)]\tLoss: 0.252704\n",
      "Train Epoch:4 [45568/60000 (75%)]\tLoss: 0.208241\n",
      "\n",
      "Test set: Average loss: 0.2903, Accuracy: 8904/10000 (89%)\n",
      "\n",
      "==================================================\n",
      "Train Epoch:5 [14848/60000 (25%)]\tLoss: 0.220997\n",
      "Train Epoch:5 [30208/60000 (50%)]\tLoss: 0.327631\n",
      "Train Epoch:5 [45568/60000 (75%)]\tLoss: 0.239357\n",
      "\n",
      "Test set: Average loss: 0.2506, Accuracy: 9071/10000 (91%)\n",
      "\n",
      "==================================================\n",
      "Train Epoch:6 [14848/60000 (25%)]\tLoss: 0.216281\n",
      "Train Epoch:6 [30208/60000 (50%)]\tLoss: 0.234741\n",
      "Train Epoch:6 [45568/60000 (75%)]\tLoss: 0.259326\n",
      "\n",
      "Test set: Average loss: 0.2527, Accuracy: 9058/10000 (91%)\n",
      "\n",
      "==================================================\n",
      "Train Epoch:7 [14848/60000 (25%)]\tLoss: 0.201916\n",
      "Train Epoch:7 [30208/60000 (50%)]\tLoss: 0.191635\n",
      "Train Epoch:7 [45568/60000 (75%)]\tLoss: 0.193583\n",
      "\n",
      "Test set: Average loss: 0.2503, Accuracy: 9137/10000 (91%)\n",
      "\n",
      "==================================================\n",
      "Train Epoch:8 [14848/60000 (25%)]\tLoss: 0.224163\n",
      "Train Epoch:8 [30208/60000 (50%)]\tLoss: 0.205731\n",
      "Train Epoch:8 [45568/60000 (75%)]\tLoss: 0.175714\n",
      "\n",
      "Test set: Average loss: 0.2376, Accuracy: 9119/10000 (91%)\n",
      "\n",
      "==================================================\n",
      "Train Epoch:9 [14848/60000 (25%)]\tLoss: 0.206601\n",
      "Train Epoch:9 [30208/60000 (50%)]\tLoss: 0.171163\n",
      "Train Epoch:9 [45568/60000 (75%)]\tLoss: 0.206722\n",
      "\n",
      "Test set: Average loss: 0.2189, Accuracy: 9209/10000 (92%)\n",
      "\n",
      "==================================================\n",
      "Train Epoch:10 [14848/60000 (25%)]\tLoss: 0.220965\n",
      "Train Epoch:10 [30208/60000 (50%)]\tLoss: 0.241970\n",
      "Train Epoch:10 [45568/60000 (75%)]\tLoss: 0.218089\n",
      "\n",
      "Test set: Average loss: 0.2167, Accuracy: 9231/10000 (92%)\n",
      "\n",
      "==================================================\n"
     ]
    }
   ],
   "source": [
    "for epoch in range(1, EPOCHS+1):\n",
    "    train(model, DEVICE, train_loader, optimizer, epoch)\n",
    "    test(model, DEVICE, test_loader)"
   ]
  },
  {
   "cell_type": "markdown",
   "metadata": {},
   "source": [
    "After 10 epochs, we get 92% accuracy. I also run 20 epochs on the Colab but still 92% accuracy. \n",
    "\n",
    "The Net completely from AlexNet, this maybe a bit overkill but I just use it to learn. \n",
    "\n",
    "Happy to get some suggests about the net or notebook!"
   ]
  }
 ],
 "metadata": {
  "kernelspec": {
   "display_name": "Python 3",
   "language": "python",
   "name": "python3"
  },
  "language_info": {
   "codemirror_mode": {
    "name": "ipython",
    "version": 3
   },
   "file_extension": ".py",
   "mimetype": "text/x-python",
   "name": "python",
   "nbconvert_exporter": "python",
   "pygments_lexer": "ipython3",
   "version": "3.6.6"
  }
 },
 "nbformat": 4,
 "nbformat_minor": 4
}
