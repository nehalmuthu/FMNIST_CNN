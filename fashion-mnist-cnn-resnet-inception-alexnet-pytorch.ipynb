{
 "cells": [
  {
   "cell_type": "markdown",
   "metadata": {
    "id": "1rm65OztSCpF"
   },
   "source": [
    "# **Importing Important Libraries**"
   ]
  },
  {
   "cell_type": "code",
   "execution_count": 1,
   "metadata": {
    "execution": {
     "iopub.execute_input": "2022-06-29T00:56:09.464362Z",
     "iopub.status.busy": "2022-06-29T00:56:09.46408Z",
     "iopub.status.idle": "2022-06-29T00:56:09.469151Z",
     "shell.execute_reply": "2022-06-29T00:56:09.4683Z",
     "shell.execute_reply.started": "2022-06-29T00:56:09.46431Z"
    },
    "id": "-1_8VZgpEtea"
   },
   "outputs": [],
   "source": [
    "import numpy as np\n",
    "import pandas as pd\n",
    "import matplotlib.pyplot as plt\n",
    "\n",
    "import torch\n",
    "import torch.nn as nn\n",
    "from torch.autograd import Variable\n",
    "\n",
    "import torchvision\n",
    "import torchvision.transforms as transforms\n",
    "from torch.utils.data import Dataset, DataLoader\n",
    "from sklearn.metrics import confusion_matrix"
   ]
  },
  {
   "cell_type": "markdown",
   "metadata": {
    "id": "s6bjL6wESfoV"
   },
   "source": [
    "### If the GPU is available use it for the computation otherwise use the CPU."
   ]
  },
  {
   "cell_type": "code",
   "execution_count": 2,
   "metadata": {
    "execution": {
     "iopub.execute_input": "2022-06-29T00:56:12.507845Z",
     "iopub.status.busy": "2022-06-29T00:56:12.507499Z",
     "iopub.status.idle": "2022-06-29T00:56:12.512338Z",
     "shell.execute_reply": "2022-06-29T00:56:12.511548Z",
     "shell.execute_reply.started": "2022-06-29T00:56:12.507786Z"
    },
    "id": "q6btjJ9YTXXw"
   },
   "outputs": [],
   "source": [
    "device = torch.device(\"cuda:0\" if torch.cuda.is_available() else \"cpu\")"
   ]
  },
  {
   "cell_type": "markdown",
   "metadata": {
    "id": "CGIhqokgSv1W"
   },
   "source": [
    "There are 2 ways to load the Fashion MNIST dataset. \n",
    "\n",
    "\n",
    "    1.   Load csv and then inherite Pytorch Dataset class .\n",
    "    2.   Use Pytorch module torchvision.datasets. It has many popular datasets like MNIST, FashionMNIST, CIFAR10 e.t.c.\n",
    "    \n",
    "    \n",
    "\n",
    "*   We use DataLoader class from torch.utils.data to load data in batches  in both method.\n",
    "* Comment out the code of a method which you are not using. \n",
    "\n",
    "\n",
    "\n",
    "\n"
   ]
  },
  {
   "cell_type": "markdown",
   "metadata": {
    "id": "4jJh32jCT_J0"
   },
   "source": [
    "### 1.    Using a Dataset class.\n",
    "    \n",
    "   *   First load the data from the disk using pandas read_csv() method.\n",
    "\n",
    "   *   Now inherit Dataset class in your own class that you are building,    lets say FashionData.\n",
    "\n",
    "        *  It has 2 methods: __get_item__( ) and __len__().\n",
    "        * __get_item__( ) return the images and labels and __len__( ) returns the number of items in a dataset."
   ]
  },
  {
   "cell_type": "code",
   "execution_count": 3,
   "metadata": {
    "execution": {
     "iopub.execute_input": "2022-06-29T00:56:16.554954Z",
     "iopub.status.busy": "2022-06-29T00:56:16.554683Z",
     "iopub.status.idle": "2022-06-29T00:56:22.955564Z",
     "shell.execute_reply": "2022-06-29T00:56:22.954705Z",
     "shell.execute_reply.started": "2022-06-29T00:56:16.554906Z"
    },
    "id": "PV2g1_8qUDvA",
    "outputId": "b429a123-7574-413d-d15a-92f0481e6753"
   },
   "outputs": [],
   "source": [
    "train_csv = pd.read_csv(\"../input/fashion-mnist_train.csv\")\n",
    "test_csv = pd.read_csv(\"../input/fashion-mnist_test.csv\")"
   ]
  },
  {
   "cell_type": "code",
   "execution_count": 4,
   "metadata": {
    "execution": {
     "iopub.execute_input": "2022-06-29T00:56:27.419367Z",
     "iopub.status.busy": "2022-06-29T00:56:27.41905Z",
     "iopub.status.idle": "2022-06-29T00:56:27.426463Z",
     "shell.execute_reply": "2022-06-29T00:56:27.42546Z",
     "shell.execute_reply.started": "2022-06-29T00:56:27.41931Z"
    },
    "id": "3Q36xjPfeo0a"
   },
   "outputs": [],
   "source": [
    "class FashionDataset(Dataset):\n",
    "    \"\"\"User defined class to build a datset using Pytorch class Dataset.\"\"\"\n",
    "    \n",
    "    def __init__(self, data, transform = None):\n",
    "        \"\"\"Method to initilaize variables.\"\"\" \n",
    "        self.fashion_MNIST = list(data.values)\n",
    "        self.transform = transform\n",
    "        \n",
    "        label = []\n",
    "        image = []\n",
    "        \n",
    "        for i in self.fashion_MNIST:\n",
    "             # first column is of labels.\n",
    "            label.append(i[0])\n",
    "            image.append(i[1:])\n",
    "        self.labels = np.asarray(label)\n",
    "        # Dimension of Images = 28 * 28 * 1. where height = width = 28 and color_channels = 1.\n",
    "        self.images = np.asarray(image).reshape(-1, 28, 28, 1).astype('float32')\n",
    "\n",
    "    def __getitem__(self, index):\n",
    "        label = self.labels[index]\n",
    "        image = self.images[index]\n",
    "        \n",
    "        if self.transform is not None:\n",
    "            image = self.transform(image)\n",
    "\n",
    "        return image, label\n",
    "\n",
    "    def __len__(self):\n",
    "        return len(self.images)"
   ]
  },
  {
   "cell_type": "code",
   "execution_count": 5,
   "metadata": {
    "execution": {
     "iopub.execute_input": "2022-06-29T00:56:30.122718Z",
     "iopub.status.busy": "2022-06-29T00:56:30.122396Z",
     "iopub.status.idle": "2022-06-29T00:56:30.907969Z",
     "shell.execute_reply": "2022-06-29T00:56:30.907021Z",
     "shell.execute_reply.started": "2022-06-29T00:56:30.122656Z"
    },
    "id": "uLeNwQWJkFkQ"
   },
   "outputs": [],
   "source": [
    "# Transform data into Tensor that has a range from 0 to 1\n",
    "train_set = FashionDataset(train_csv, transform=transforms.Compose([transforms.ToTensor()]))\n",
    "test_set = FashionDataset(test_csv, transform=transforms.Compose([transforms.ToTensor()]))\n",
    "\n",
    "train_loader = DataLoader(train_set, batch_size=100)\n",
    "test_loader = DataLoader(train_set, batch_size=100)"
   ]
  },
  {
   "cell_type": "markdown",
   "metadata": {
    "id": "VePPK186m6iS"
   },
   "source": [
    "### 2. Using FashionMNIST class from torchvision module.\n",
    "\n",
    "\n",
    "*   It will download the dataset first time.\n",
    "\n",
    "\n"
   ]
  },
  {
   "cell_type": "code",
   "execution_count": 6,
   "metadata": {
    "id": "zM618_wYGM0n"
   },
   "outputs": [
    {
     "data": {
      "text/plain": [
       "'\\ntrain_set = torchvision.datasets.FashionMNIST(\"./data\", download=True, transform=\\n                                                transforms.Compose([transforms.ToTensor()]))\\ntest_set = torchvision.datasets.FashionMNIST(\"./data\", download=True, train=False, transform=\\n                                               transforms.Compose([transforms.ToTensor()]))  \\n'"
      ]
     },
     "execution_count": 6,
     "metadata": {},
     "output_type": "execute_result"
    }
   ],
   "source": [
    "\"\"\"\n",
    "train_set = torchvision.datasets.FashionMNIST(\"./data\", download=True, transform=\n",
    "                                                transforms.Compose([transforms.ToTensor()]))\n",
    "test_set = torchvision.datasets.FashionMNIST(\"./data\", download=True, train=False, transform=\n",
    "                                               transforms.Compose([transforms.ToTensor()]))  \n",
    "\"\"\"                                               "
   ]
  },
  {
   "cell_type": "code",
   "execution_count": 7,
   "metadata": {
    "id": "8s2uhlGJZOOP"
   },
   "outputs": [
    {
     "data": {
      "text/plain": [
       "'\\ntrain_loader = torch.utils.data.DataLoader(train_set, \\n                                           batch_size=100)\\ntest_loader = torch.utils.data.DataLoader(test_set,\\n                                          batch_size=100)\\n'"
      ]
     },
     "execution_count": 7,
     "metadata": {},
     "output_type": "execute_result"
    }
   ],
   "source": [
    "\"\"\"\n",
    "train_loader = torch.utils.data.DataLoader(train_set, \n",
    "                                           batch_size=100)\n",
    "test_loader = torch.utils.data.DataLoader(test_set,\n",
    "                                          batch_size=100)\n",
    "\"\"\"                                          "
   ]
  },
  {
   "cell_type": "markdown",
   "metadata": {
    "id": "4SfsxOX4peHU"
   },
   "source": [
    "### We have 10 types of clothes in FashionMNIST dataset.\n",
    "\n",
    "\n",
    "> Making a method that return the name of class for the label number.\n",
    "ex. if the label is 5, we return Sandal.\n",
    "\n"
   ]
  },
  {
   "cell_type": "code",
   "execution_count": 8,
   "metadata": {
    "execution": {
     "iopub.execute_input": "2022-06-29T00:56:34.676222Z",
     "iopub.status.busy": "2022-06-29T00:56:34.675616Z",
     "iopub.status.idle": "2022-06-29T00:56:34.686287Z",
     "shell.execute_reply": "2022-06-29T00:56:34.685537Z",
     "shell.execute_reply.started": "2022-06-29T00:56:34.67592Z"
    },
    "id": "uWIE3hVqOlMi"
   },
   "outputs": [],
   "source": [
    "def output_label(label):\n",
    "    output_mapping = {\n",
    "                 0: \"T-shirt/Top\",\n",
    "                 1: \"Trouser\",\n",
    "                 2: \"Pullover\",\n",
    "                 3: \"Dress\",\n",
    "                 4: \"Coat\", \n",
    "                 5: \"Sandal\", \n",
    "                 6: \"Shirt\",\n",
    "                 7: \"Sneaker\",\n",
    "                 8: \"Bag\",\n",
    "                 9: \"Ankle Boot\"\n",
    "                 }\n",
    "    input = (label.item() if type(label) == torch.Tensor else label)\n",
    "    return output_mapping[input]"
   ]
  },
  {
   "cell_type": "markdown",
   "metadata": {
    "id": "yDH7i5UFo7w3"
   },
   "source": [
    "### Playing with data and displaying some images using matplotlib imshow() method.\n",
    "\n",
    "\n",
    "\n"
   ]
  },
  {
   "cell_type": "code",
   "execution_count": 9,
   "metadata": {
    "execution": {
     "iopub.execute_input": "2022-06-29T00:56:37.698857Z",
     "iopub.status.busy": "2022-06-29T00:56:37.698523Z",
     "iopub.status.idle": "2022-06-29T00:56:37.742399Z",
     "shell.execute_reply": "2022-06-29T00:56:37.74157Z",
     "shell.execute_reply.started": "2022-06-29T00:56:37.698805Z"
    },
    "id": "RB9jenaDYZmt",
    "outputId": "3d8212d3-3cbf-4e30-b369-e6ede4ad6350"
   },
   "outputs": [
    {
     "data": {
      "text/plain": [
       "torch.Size([100, 1, 28, 28])"
      ]
     },
     "execution_count": 9,
     "metadata": {},
     "output_type": "execute_result"
    }
   ],
   "source": [
    "a = next(iter(train_loader))\n",
    "a[0].size()"
   ]
  },
  {
   "cell_type": "code",
   "execution_count": 10,
   "metadata": {
    "execution": {
     "iopub.execute_input": "2022-06-29T00:56:40.170763Z",
     "iopub.status.busy": "2022-06-29T00:56:40.170196Z",
     "iopub.status.idle": "2022-06-29T00:56:40.180461Z",
     "shell.execute_reply": "2022-06-29T00:56:40.179465Z",
     "shell.execute_reply.started": "2022-06-29T00:56:40.1707Z"
    },
    "id": "D-PnIoRpjuZW",
    "outputId": "cff25b7c-a4c6-42ea-81d1-43a4789959bc"
   },
   "outputs": [
    {
     "data": {
      "text/plain": [
       "60000"
      ]
     },
     "execution_count": 10,
     "metadata": {},
     "output_type": "execute_result"
    }
   ],
   "source": [
    "len(train_set)"
   ]
  },
  {
   "cell_type": "code",
   "execution_count": 11,
   "metadata": {
    "execution": {
     "iopub.execute_input": "2022-06-29T00:56:41.892028Z",
     "iopub.status.busy": "2022-06-29T00:56:41.891492Z",
     "iopub.status.idle": "2022-06-29T00:56:42.197565Z",
     "shell.execute_reply": "2022-06-29T00:56:42.196609Z",
     "shell.execute_reply.started": "2022-06-29T00:56:41.891799Z"
    },
    "id": "2kC6CrJrlbf_",
    "outputId": "2eefede6-0e54-4512-b6a8-1c17eb42286a"
   },
   "outputs": [
    {
     "name": "stdout",
     "output_type": "stream",
     "text": [
      "2\n"
     ]
    },
    {
     "data": {
      "image/png": "[encoded data removed]",
      "text/plain": [
       "<Figure size 432x288 with 1 Axes>"
      ]
     },
     "metadata": {},
     "output_type": "display_data"
    }
   ],
   "source": [
    "image, label = next(iter(train_set))\n",
    "plt.imshow(image.squeeze(), cmap=\"gray\")\n",
    "print(label)"
   ]
  },
  {
   "cell_type": "code",
   "execution_count": 12,
   "metadata": {
    "execution": {
     "iopub.execute_input": "2022-06-29T00:56:44.636095Z",
     "iopub.status.busy": "2022-06-29T00:56:44.635817Z",
     "iopub.status.idle": "2022-06-29T00:56:44.645637Z",
     "shell.execute_reply": "2022-06-29T00:56:44.64457Z",
     "shell.execute_reply.started": "2022-06-29T00:56:44.63604Z"
    },
    "id": "sgpYsgh0PY09",
    "outputId": "4d00bf1d-fb85-4e2a-bb21-067e75360637"
   },
   "outputs": [
    {
     "name": "stdout",
     "output_type": "stream",
     "text": [
      "<class 'torch.Tensor'> <class 'torch.Tensor'>\n",
      "torch.Size([10, 1, 28, 28]) torch.Size([10])\n"
     ]
    }
   ],
   "source": [
    "demo_loader = torch.utils.data.DataLoader(train_set, batch_size=10)\n",
    "\n",
    "batch = next(iter(demo_loader))\n",
    "images, labels = batch\n",
    "print(type(images), type(labels))\n",
    "print(images.shape, labels.shape)"
   ]
  },
  {
   "cell_type": "code",
   "execution_count": 13,
   "metadata": {
    "execution": {
     "iopub.execute_input": "2022-06-29T00:56:46.644563Z",
     "iopub.status.busy": "2022-06-29T00:56:46.644288Z",
     "iopub.status.idle": "2022-06-29T00:56:47.081761Z",
     "shell.execute_reply": "2022-06-29T00:56:47.080943Z",
     "shell.execute_reply.started": "2022-06-29T00:56:46.644508Z"
    },
    "id": "2Z0D4BgQRW8e",
    "outputId": "c33042d3-017f-4dcb-8bf9-244910e2b49e"
   },
   "outputs": [
    {
     "name": "stderr",
     "output_type": "stream",
     "text": [
      "Clipping input data to the valid range for imshow with RGB data ([0..1] for floats or [0..255] for integers).\n"
     ]
    },
    {
     "name": "stdout",
     "output_type": "stream",
     "text": [
      "labels:  Pullover, Ankle Boot, Shirt, T-shirt/Top, Dress, Coat, Coat, Sandal, Coat, Bag, "
     ]
    },
    {
     "data": {
      "image/png": "[encoded data removed]",
      "text/plain": [
       "<Figure size 1080x1440 with 1 Axes>"
      ]
     },
     "metadata": {},
     "output_type": "display_data"
    }
   ],
   "source": [
    "grid = torchvision.utils.make_grid(images, nrow=10)\n",
    "\n",
    "plt.figure(figsize=(15, 20))\n",
    "plt.imshow(np.transpose(grid, (1, 2, 0)))\n",
    "print(\"labels: \", end=\" \")\n",
    "for i, label in enumerate(labels):\n",
    "    print(output_label(label), end=\", \")\n"
   ]
  },
  {
   "cell_type": "markdown",
   "metadata": {
    "id": "YM2u0Riup9mx"
   },
   "source": [
    "## Building a CNN \n",
    "\n",
    "\n",
    "*   Make a model class (FashionCNN in our case)\n",
    "    * It inherit nn.Module class that is a super class for all the neural networks in Pytorch.\n",
    "* Our Neural Net has following layers:\n",
    "    * Two Sequential layers each consists of following layers-\n",
    "        * Convolution layer that has kernel size of 3 * 3, padding = 1 (zero_padding) in 1st layer and padding = 0 in second one. Stride of 1 in both layer.\n",
    "        * Batch Normalization layer.\n",
    "        * Acitvation function: ReLU.\n",
    "        * Max Pooling layer with kernel size of 2 * 2 and stride 2.\n",
    "     * Flatten out the output for dense layer(a.k.a. fully connected layer).\n",
    "     * 3 Fully connected layer  with different in/out features.\n",
    "     * 1 Dropout layer that has class probability p = 0.25.\n",
    "  \n",
    "     * All the functionaltiy is given in forward method that defines the forward pass of CNN.\n",
    "     * Our input image is changing in a following way:\n",
    "        * First Convulation layer : input: 28 \\* 28 \\* 3, output: 28 \\* 28 \\* 32\n",
    "        * First Max Pooling layer : input: 28 \\* 28 \\* 32, output: 14 \\* 14 \\* 32\n",
    "        * Second Conv layer : input : 14 \\* 14 \\* 32, output: 12 \\* 12 \\* 64\n",
    "        * Second Max Pooling layer : 12 \\* 12 \\* 64, output:  6 \\* 6 \\* 64\n",
    "    * Final fully connected layer has 10 output features for 10 types of clothes.\n",
    "\n",
    "> Lets implementing the network...\n",
    "\n",
    "\n",
    "\n"
   ]
  },
  {
   "cell_type": "code",
   "execution_count": 14,
   "metadata": {
    "execution": {
     "iopub.execute_input": "2022-06-28T23:25:27.073484Z",
     "iopub.status.busy": "2022-06-28T23:25:27.073173Z",
     "iopub.status.idle": "2022-06-28T23:25:27.083419Z",
     "shell.execute_reply": "2022-06-28T23:25:27.082435Z",
     "shell.execute_reply.started": "2022-06-28T23:25:27.073429Z"
    },
    "id": "hyCH0Q4hSgFB"
   },
   "outputs": [],
   "source": [
    "class FashionCNN(nn.Module):\n",
    "    \n",
    "    def __init__(self):\n",
    "        super(FashionCNN, self).__init__()\n",
    "        \n",
    "        self.layer1 = nn.Sequential(\n",
    "            nn.Conv2d(in_channels=1, out_channels=32, kernel_size=3, padding=1),\n",
    "            nn.BatchNorm2d(32),\n",
    "            nn.ReLU(),\n",
    "            nn.MaxPool2d(kernel_size=2, stride=2)\n",
    "        )\n",
    "        \n",
    "        self.layer2 = nn.Sequential(\n",
    "            nn.Conv2d(in_channels=32, out_channels=64, kernel_size=3),\n",
    "            nn.BatchNorm2d(64),\n",
    "            nn.ReLU(),\n",
    "            nn.MaxPool2d(2)\n",
    "        )\n",
    "        \n",
    "        self.fc1 = nn.Linear(in_features=64*6*6, out_features=600)\n",
    "        self.drop = nn.Dropout2d(0.25)\n",
    "        self.fc2 = nn.Linear(in_features=600, out_features=120)\n",
    "        self.fc3 = nn.Linear(in_features=120, out_features=10)\n",
    "        \n",
    "    def forward(self, x):\n",
    "        out = self.layer1(x)\n",
    "        out = self.layer2(out)\n",
    "        out = out.view(out.size(0), -1)\n",
    "        out = self.fc1(out)\n",
    "        out = self.drop(out)\n",
    "        out = self.fc2(out)\n",
    "        out = self.fc3(out)\n",
    "        \n",
    "        return out\n"
   ]
  },
  {
   "cell_type": "markdown",
   "metadata": {
    "id": "0mMVaW_PvCC2"
   },
   "source": [
    "### Making a model of our CNN class\n",
    "\n",
    "*   Creating a object(model in the code)\n",
    "*   Transfering it into GPU if available.\n",
    "*  Defining a Loss function. we're using CrossEntropyLoss() here.\n",
    "*  Using Adam algorithm for optimization purpose.\n",
    "\n"
   ]
  },
  {
   "cell_type": "markdown",
   "metadata": {},
   "source": [
    "**RESNET50**"
   ]
  },
  {
   "cell_type": "code",
   "execution_count": 15,
   "metadata": {
    "execution": {
     "iopub.execute_input": "2022-06-29T00:56:56.367929Z",
     "iopub.status.busy": "2022-06-29T00:56:56.367625Z",
     "iopub.status.idle": "2022-06-29T00:56:58.89201Z",
     "shell.execute_reply": "2022-06-29T00:56:58.891251Z",
     "shell.execute_reply.started": "2022-06-29T00:56:56.367879Z"
    }
   },
   "outputs": [
    {
     "name": "stderr",
     "output_type": "stream",
     "text": [
      "Downloading: \"https://download.pytorch.org/models/resnet50-19c8e357.pth\" to /root/.torch/models/resnet50-19c8e357.pth\n",
      "102502400it [00:03, 31857957.47it/s]\n"
     ]
    }
   ],
   "source": [
    "#model = FashionCNN()\n",
    "from torchvision import transforms, utils, models\n",
    "model = models.resnet50(pretrained=True)\n",
    "#model = torch.nn.resnet50(*(list(oldmodel.children())[:-1]))\n"
   ]
  },
  {
   "cell_type": "code",
   "execution_count": 16,
   "metadata": {
    "execution": {
     "iopub.execute_input": "2022-06-29T00:57:12.495119Z",
     "iopub.status.busy": "2022-06-29T00:57:12.494785Z",
     "iopub.status.idle": "2022-06-29T00:57:12.500245Z",
     "shell.execute_reply": "2022-06-29T00:57:12.499538Z",
     "shell.execute_reply.started": "2022-06-29T00:57:12.495056Z"
    }
   },
   "outputs": [],
   "source": [
    "def change_layers(model):\n",
    "    model.conv1 = nn.Conv2d(1, 64, kernel_size=(7, 7), stride=(2, 2), padding=(3, 3), bias=False)\n",
    "    model.fc = nn.Linear(2048, 10, bias=True)\n",
    "    #model.drop= nn.Dropout2d(p=0.25)\n",
    "    #model.fc2= nn.Linear(in_features=1000, out_features=120, bias=True)\n",
    "    #model.fc3= nn.Linear(in_features=120, out_features=10, bias=True)\n",
    "    return model"
   ]
  },
  {
   "cell_type": "code",
   "execution_count": 17,
   "metadata": {
    "execution": {
     "iopub.execute_input": "2022-06-29T00:57:15.439394Z",
     "iopub.status.busy": "2022-06-29T00:57:15.438822Z",
     "iopub.status.idle": "2022-06-29T00:57:19.279311Z",
     "shell.execute_reply": "2022-06-29T00:57:19.278618Z",
     "shell.execute_reply.started": "2022-06-29T00:57:15.439096Z"
    }
   },
   "outputs": [
    {
     "data": {
      "text/plain": [
       "ResNet(\n",
       "  (conv1): Conv2d(1, 64, kernel_size=(7, 7), stride=(2, 2), padding=(3, 3), bias=False)\n",
       "  (bn1): BatchNorm2d(64, eps=1e-05, momentum=0.1, affine=True, track_running_stats=True)\n",
       "  (relu): ReLU(inplace)\n",
       "  (maxpool): MaxPool2d(kernel_size=3, stride=2, padding=1, dilation=1, ceil_mode=False)\n",
       "  (layer1): Sequential(\n",
       "    (0): Bottleneck(\n",
       "      (conv1): Conv2d(64, 64, kernel_size=(1, 1), stride=(1, 1), bias=False)\n",
       "      (bn1): BatchNorm2d(64, eps=1e-05, momentum=0.1, affine=True, track_running_stats=True)\n",
       "      (conv2): Conv2d(64, 64, kernel_size=(3, 3), stride=(1, 1), padding=(1, 1), bias=False)\n",
       "      (bn2): BatchNorm2d(64, eps=1e-05, momentum=0.1, affine=True, track_running_stats=True)\n",
       "      (conv3): Conv2d(64, 256, kernel_size=(1, 1), stride=(1, 1), bias=False)\n",
       "      (bn3): BatchNorm2d(256, eps=1e-05, momentum=0.1, affine=True, track_running_stats=True)\n",
       "      (relu): ReLU(inplace)\n",
       "      (downsample): Sequential(\n",
       "        (0): Conv2d(64, 256, kernel_size=(1, 1), stride=(1, 1), bias=False)\n",
       "        (1): BatchNorm2d(256, eps=1e-05, momentum=0.1, affine=True, track_running_stats=True)\n",
       "      )\n",
       "    )\n",
       "    (1): Bottleneck(\n",
       "      (conv1): Conv2d(256, 64, kernel_size=(1, 1), stride=(1, 1), bias=False)\n",
       "      (bn1): BatchNorm2d(64, eps=1e-05, momentum=0.1, affine=True, track_running_stats=True)\n",
       "      (conv2): Conv2d(64, 64, kernel_size=(3, 3), stride=(1, 1), padding=(1, 1), bias=False)\n",
       "      (bn2): BatchNorm2d(64, eps=1e-05, momentum=0.1, affine=True, track_running_stats=True)\n",
       "      (conv3): Conv2d(64, 256, kernel_size=(1, 1), stride=(1, 1), bias=False)\n",
       "      (bn3): BatchNorm2d(256, eps=1e-05, momentum=0.1, affine=True, track_running_stats=True)\n",
       "      (relu): ReLU(inplace)\n",
       "    )\n",
       "    (2): Bottleneck(\n",
       "      (conv1): Conv2d(256, 64, kernel_size=(1, 1), stride=(1, 1), bias=False)\n",
       "      (bn1): BatchNorm2d(64, eps=1e-05, momentum=0.1, affine=True, track_running_stats=True)\n",
       "      (conv2): Conv2d(64, 64, kernel_size=(3, 3), stride=(1, 1), padding=(1, 1), bias=False)\n",
       "      (bn2): BatchNorm2d(64, eps=1e-05, momentum=0.1, affine=True, track_running_stats=True)\n",
       "      (conv3): Conv2d(64, 256, kernel_size=(1, 1), stride=(1, 1), bias=False)\n",
       "      (bn3): BatchNorm2d(256, eps=1e-05, momentum=0.1, affine=True, track_running_stats=True)\n",
       "      (relu): ReLU(inplace)\n",
       "    )\n",
       "  )\n",
       "  (layer2): Sequential(\n",
       "    (0): Bottleneck(\n",
       "      (conv1): Conv2d(256, 128, kernel_size=(1, 1), stride=(1, 1), bias=False)\n",
       "      (bn1): BatchNorm2d(128, eps=1e-05, momentum=0.1, affine=True, track_running_stats=True)\n",
       "      (conv2): Conv2d(128, 128, kernel_size=(3, 3), stride=(2, 2), padding=(1, 1), bias=False)\n",
       "      (bn2): BatchNorm2d(128, eps=1e-05, momentum=0.1, affine=True, track_running_stats=True)\n",
       "      (conv3): Conv2d(128, 512, kernel_size=(1, 1), stride=(1, 1), bias=False)\n",
       "      (bn3): BatchNorm2d(512, eps=1e-05, momentum=0.1, affine=True, track_running_stats=True)\n",
       "      (relu): ReLU(inplace)\n",
       "      (downsample): Sequential(\n",
       "        (0): Conv2d(256, 512, kernel_size=(1, 1), stride=(2, 2), bias=False)\n",
       "        (1): BatchNorm2d(512, eps=1e-05, momentum=0.1, affine=True, track_running_stats=True)\n",
       "      )\n",
       "    )\n",
       "    (1): Bottleneck(\n",
       "      (conv1): Conv2d(512, 128, kernel_size=(1, 1), stride=(1, 1), bias=False)\n",
       "      (bn1): BatchNorm2d(128, eps=1e-05, momentum=0.1, affine=True, track_running_stats=True)\n",
       "      (conv2): Conv2d(128, 128, kernel_size=(3, 3), stride=(1, 1), padding=(1, 1), bias=False)\n",
       "      (bn2): BatchNorm2d(128, eps=1e-05, momentum=0.1, affine=True, track_running_stats=True)\n",
       "      (conv3): Conv2d(128, 512, kernel_size=(1, 1), stride=(1, 1), bias=False)\n",
       "      (bn3): BatchNorm2d(512, eps=1e-05, momentum=0.1, affine=True, track_running_stats=True)\n",
       "      (relu): ReLU(inplace)\n",
       "    )\n",
       "    (2): Bottleneck(\n",
       "      (conv1): Conv2d(512, 128, kernel_size=(1, 1), stride=(1, 1), bias=False)\n",
       "      (bn1): BatchNorm2d(128, eps=1e-05, momentum=0.1, affine=True, track_running_stats=True)\n",
       "      (conv2): Conv2d(128, 128, kernel_size=(3, 3), stride=(1, 1), padding=(1, 1), bias=False)\n",
       "      (bn2): BatchNorm2d(128, eps=1e-05, momentum=0.1, affine=True, track_running_stats=True)\n",
       "      (conv3): Conv2d(128, 512, kernel_size=(1, 1), stride=(1, 1), bias=False)\n",
       "      (bn3): BatchNorm2d(512, eps=1e-05, momentum=0.1, affine=True, track_running_stats=True)\n",
       "      (relu): ReLU(inplace)\n",
       "    )\n",
       "    (3): Bottleneck(\n",
       "      (conv1): Conv2d(512, 128, kernel_size=(1, 1), stride=(1, 1), bias=False)\n",
       "      (bn1): BatchNorm2d(128, eps=1e-05, momentum=0.1, affine=True, track_running_stats=True)\n",
       "      (conv2): Conv2d(128, 128, kernel_size=(3, 3), stride=(1, 1), padding=(1, 1), bias=False)\n",
       "      (bn2): BatchNorm2d(128, eps=1e-05, momentum=0.1, affine=True, track_running_stats=True)\n",
       "      (conv3): Conv2d(128, 512, kernel_size=(1, 1), stride=(1, 1), bias=False)\n",
       "      (bn3): BatchNorm2d(512, eps=1e-05, momentum=0.1, affine=True, track_running_stats=True)\n",
       "      (relu): ReLU(inplace)\n",
       "    )\n",
       "  )\n",
       "  (layer3): Sequential(\n",
       "    (0): Bottleneck(\n",
       "      (conv1): Conv2d(512, 256, kernel_size=(1, 1), stride=(1, 1), bias=False)\n",
       "      (bn1): BatchNorm2d(256, eps=1e-05, momentum=0.1, affine=True, track_running_stats=True)\n",
       "      (conv2): Conv2d(256, 256, kernel_size=(3, 3), stride=(2, 2), padding=(1, 1), bias=False)\n",
       "      (bn2): BatchNorm2d(256, eps=1e-05, momentum=0.1, affine=True, track_running_stats=True)\n",
       "      (conv3): Conv2d(256, 1024, kernel_size=(1, 1), stride=(1, 1), bias=False)\n",
       "      (bn3): BatchNorm2d(1024, eps=1e-05, momentum=0.1, affine=True, track_running_stats=True)\n",
       "      (relu): ReLU(inplace)\n",
       "      (downsample): Sequential(\n",
       "        (0): Conv2d(512, 1024, kernel_size=(1, 1), stride=(2, 2), bias=False)\n",
       "        (1): BatchNorm2d(1024, eps=1e-05, momentum=0.1, affine=True, track_running_stats=True)\n",
       "      )\n",
       "    )\n",
       "    (1): Bottleneck(\n",
       "      (conv1): Conv2d(1024, 256, kernel_size=(1, 1), stride=(1, 1), bias=False)\n",
       "      (bn1): BatchNorm2d(256, eps=1e-05, momentum=0.1, affine=True, track_running_stats=True)\n",
       "      (conv2): Conv2d(256, 256, kernel_size=(3, 3), stride=(1, 1), padding=(1, 1), bias=False)\n",
       "      (bn2): BatchNorm2d(256, eps=1e-05, momentum=0.1, affine=True, track_running_stats=True)\n",
       "      (conv3): Conv2d(256, 1024, kernel_size=(1, 1), stride=(1, 1), bias=False)\n",
       "      (bn3): BatchNorm2d(1024, eps=1e-05, momentum=0.1, affine=True, track_running_stats=True)\n",
       "      (relu): ReLU(inplace)\n",
       "    )\n",
       "    (2): Bottleneck(\n",
       "      (conv1): Conv2d(1024, 256, kernel_size=(1, 1), stride=(1, 1), bias=False)\n",
       "      (bn1): BatchNorm2d(256, eps=1e-05, momentum=0.1, affine=True, track_running_stats=True)\n",
       "      (conv2): Conv2d(256, 256, kernel_size=(3, 3), stride=(1, 1), padding=(1, 1), bias=False)\n",
       "      (bn2): BatchNorm2d(256, eps=1e-05, momentum=0.1, affine=True, track_running_stats=True)\n",
       "      (conv3): Conv2d(256, 1024, kernel_size=(1, 1), stride=(1, 1), bias=False)\n",
       "      (bn3): BatchNorm2d(1024, eps=1e-05, momentum=0.1, affine=True, track_running_stats=True)\n",
       "      (relu): ReLU(inplace)\n",
       "    )\n",
       "    (3): Bottleneck(\n",
       "      (conv1): Conv2d(1024, 256, kernel_size=(1, 1), stride=(1, 1), bias=False)\n",
       "      (bn1): BatchNorm2d(256, eps=1e-05, momentum=0.1, affine=True, track_running_stats=True)\n",
       "      (conv2): Conv2d(256, 256, kernel_size=(3, 3), stride=(1, 1), padding=(1, 1), bias=False)\n",
       "      (bn2): BatchNorm2d(256, eps=1e-05, momentum=0.1, affine=True, track_running_stats=True)\n",
       "      (conv3): Conv2d(256, 1024, kernel_size=(1, 1), stride=(1, 1), bias=False)\n",
       "      (bn3): BatchNorm2d(1024, eps=1e-05, momentum=0.1, affine=True, track_running_stats=True)\n",
       "      (relu): ReLU(inplace)\n",
       "    )\n",
       "    (4): Bottleneck(\n",
       "      (conv1): Conv2d(1024, 256, kernel_size=(1, 1), stride=(1, 1), bias=False)\n",
       "      (bn1): BatchNorm2d(256, eps=1e-05, momentum=0.1, affine=True, track_running_stats=True)\n",
       "      (conv2): Conv2d(256, 256, kernel_size=(3, 3), stride=(1, 1), padding=(1, 1), bias=False)\n",
       "      (bn2): BatchNorm2d(256, eps=1e-05, momentum=0.1, affine=True, track_running_stats=True)\n",
       "      (conv3): Conv2d(256, 1024, kernel_size=(1, 1), stride=(1, 1), bias=False)\n",
       "      (bn3): BatchNorm2d(1024, eps=1e-05, momentum=0.1, affine=True, track_running_stats=True)\n",
       "      (relu): ReLU(inplace)\n",
       "    )\n",
       "    (5): Bottleneck(\n",
       "      (conv1): Conv2d(1024, 256, kernel_size=(1, 1), stride=(1, 1), bias=False)\n",
       "      (bn1): BatchNorm2d(256, eps=1e-05, momentum=0.1, affine=True, track_running_stats=True)\n",
       "      (conv2): Conv2d(256, 256, kernel_size=(3, 3), stride=(1, 1), padding=(1, 1), bias=False)\n",
       "      (bn2): BatchNorm2d(256, eps=1e-05, momentum=0.1, affine=True, track_running_stats=True)\n",
       "      (conv3): Conv2d(256, 1024, kernel_size=(1, 1), stride=(1, 1), bias=False)\n",
       "      (bn3): BatchNorm2d(1024, eps=1e-05, momentum=0.1, affine=True, track_running_stats=True)\n",
       "      (relu): ReLU(inplace)\n",
       "    )\n",
       "  )\n",
       "  (layer4): Sequential(\n",
       "    (0): Bottleneck(\n",
       "      (conv1): Conv2d(1024, 512, kernel_size=(1, 1), stride=(1, 1), bias=False)\n",
       "      (bn1): BatchNorm2d(512, eps=1e-05, momentum=0.1, affine=True, track_running_stats=True)\n",
       "      (conv2): Conv2d(512, 512, kernel_size=(3, 3), stride=(2, 2), padding=(1, 1), bias=False)\n",
       "      (bn2): BatchNorm2d(512, eps=1e-05, momentum=0.1, affine=True, track_running_stats=True)\n",
       "      (conv3): Conv2d(512, 2048, kernel_size=(1, 1), stride=(1, 1), bias=False)\n",
       "      (bn3): BatchNorm2d(2048, eps=1e-05, momentum=0.1, affine=True, track_running_stats=True)\n",
       "      (relu): ReLU(inplace)\n",
       "      (downsample): Sequential(\n",
       "        (0): Conv2d(1024, 2048, kernel_size=(1, 1), stride=(2, 2), bias=False)\n",
       "        (1): BatchNorm2d(2048, eps=1e-05, momentum=0.1, affine=True, track_running_stats=True)\n",
       "      )\n",
       "    )\n",
       "    (1): Bottleneck(\n",
       "      (conv1): Conv2d(2048, 512, kernel_size=(1, 1), stride=(1, 1), bias=False)\n",
       "      (bn1): BatchNorm2d(512, eps=1e-05, momentum=0.1, affine=True, track_running_stats=True)\n",
       "      (conv2): Conv2d(512, 512, kernel_size=(3, 3), stride=(1, 1), padding=(1, 1), bias=False)\n",
       "      (bn2): BatchNorm2d(512, eps=1e-05, momentum=0.1, affine=True, track_running_stats=True)\n",
       "      (conv3): Conv2d(512, 2048, kernel_size=(1, 1), stride=(1, 1), bias=False)\n",
       "      (bn3): BatchNorm2d(2048, eps=1e-05, momentum=0.1, affine=True, track_running_stats=True)\n",
       "      (relu): ReLU(inplace)\n",
       "    )\n",
       "    (2): Bottleneck(\n",
       "      (conv1): Conv2d(2048, 512, kernel_size=(1, 1), stride=(1, 1), bias=False)\n",
       "      (bn1): BatchNorm2d(512, eps=1e-05, momentum=0.1, affine=True, track_running_stats=True)\n",
       "      (conv2): Conv2d(512, 512, kernel_size=(3, 3), stride=(1, 1), padding=(1, 1), bias=False)\n",
       "      (bn2): BatchNorm2d(512, eps=1e-05, momentum=0.1, affine=True, track_running_stats=True)\n",
       "      (conv3): Conv2d(512, 2048, kernel_size=(1, 1), stride=(1, 1), bias=False)\n",
       "      (bn3): BatchNorm2d(2048, eps=1e-05, momentum=0.1, affine=True, track_running_stats=True)\n",
       "      (relu): ReLU(inplace)\n",
       "    )\n",
       "  )\n",
       "  (avgpool): AdaptiveAvgPool2d(output_size=(1, 1))\n",
       "  (fc): Linear(in_features=2048, out_features=10, bias=True)\n",
       ")"
      ]
     },
     "execution_count": 17,
     "metadata": {},
     "output_type": "execute_result"
    }
   ],
   "source": [
    "change_layers(model)\n",
    "error = nn.CrossEntropyLoss()\n",
    "\n",
    "learning_rate = 0.001\n",
    "optimizer = torch.optim.Adam(model.parameters(), lr=learning_rate)\n",
    "if(torch.cuda.is_available()):\n",
    "    model = model.cuda()\n",
    "    \n",
    "model.to(device)\n"
   ]
  },
  {
   "cell_type": "markdown",
   "metadata": {},
   "source": [
    "**GOOGLE NET / INCEPTION NET**"
   ]
  },
  {
   "cell_type": "code",
   "execution_count": 18,
   "metadata": {
    "execution": {
     "iopub.execute_input": "2022-06-29T01:38:33.006336Z",
     "iopub.status.busy": "2022-06-29T01:38:33.006057Z",
     "iopub.status.idle": "2022-06-29T01:38:33.026047Z",
     "shell.execute_reply": "2022-06-29T01:38:33.025312Z",
     "shell.execute_reply.started": "2022-06-29T01:38:33.006287Z"
    }
   },
   "outputs": [],
   "source": [
    "import torch.nn.functional as F\n",
    "\n",
    "\n",
    "def conv_relu(in_channels, out_channels, kernel, stride=1, padding=0):\n",
    "    layer = nn.Sequential(\n",
    "        nn.Conv2d(in_channels, out_channels, kernel, stride, padding),\n",
    "        nn.BatchNorm2d(out_channels, eps=1e-3),\n",
    "        nn.ReLU(True))\n",
    "    return layer\n",
    " \n",
    " \n",
    " \n",
    " \n",
    "class Inception(nn.Module):\n",
    "    def __init__(self,in_channel,c1,c2,c3,c4):\n",
    "        super(Inception,self).__init__()\n",
    "        self.norm1_1=nn.BatchNorm2d(in_channel,eps=1e-3)\n",
    "        self.p1_1=nn.Conv2d(in_channels=in_channel,out_channels=c1,kernel_size=1)\n",
    "        self.norm2_1 = nn.BatchNorm2d(in_channel, eps=1e-3)\n",
    "        self.p2_1=nn.Conv2d(in_channels=in_channel,out_channels=c2[0],kernel_size=1)\n",
    "        self.norm2_2 = nn.BatchNorm2d(c2[0], eps=1e-3)\n",
    "        self.p2_2=nn.Conv2d(in_channels=c2[0],out_channels=c2[1],kernel_size=3,padding=1)\n",
    "        self.norm3_1 = nn.BatchNorm2d(in_channel, eps=1e-3)\n",
    "        self.p3_1=nn.Conv2d(in_channels=in_channel,out_channels=c3[0],kernel_size=1)\n",
    "        self.norm3_2 = nn.BatchNorm2d(c3[0], eps=1e-3)\n",
    "        self.p3_2=nn.Conv2d(in_channels=c3[0],out_channels=c3[1],kernel_size=5,padding=2)\n",
    "        self.p4_1 = nn.MaxPool2d(kernel_size=3,stride=1,padding=1)\n",
    "        self.norm4_2 = nn.BatchNorm2d(in_channel, eps=1e-3)\n",
    "        self.p4_2 = nn.Conv2d(in_channels=in_channel, out_channels=c4, kernel_size=1)\n",
    " \n",
    "    def forward(self, x):\n",
    "        p1=self.p1_1(F.relu(self.norm1_1(x)))\n",
    "        p2=self.p2_2(F.relu(self.norm2_2(self.p2_1(F.relu(self.norm2_1(x))))))\n",
    "        p3=self.p3_2(F.relu(self.norm3_2(self.p3_1(F.relu(self.norm3_1(x))))))\n",
    "        p4=self.p4_2(F.relu(self.norm4_2(self.p4_1(x))))\n",
    "        return torch.cat((p1,p2,p3,p4),dim=1)\n",
    " \n",
    "#Test Inception block\n",
    "# test_net = Inception(3, 64, (48, 64), (64, 96), 32)\n",
    "# test_x = Variable(torch.zeros(1, 3, 96, 96))\n",
    "# print('input shape: {} x {} x {}'.format(test_x.shape[1], test_x.shape[2], test_x.shape[3]))\n",
    "# test_y = test_net(test_x)\n",
    "# print('output shape: {} x {} x {}'.format(test_y.shape[1], test_y.shape[2], test_y.shape[3]))\n",
    " \n",
    " \n",
    " \n",
    "class GoogleNet(nn.Module):\n",
    "    def __init__(self,in_channel,num_classes):\n",
    "        super(GoogleNet,self).__init__()\n",
    "        layers=[]\n",
    "        layers+=[nn.Conv2d(in_channels=in_channel,out_channels=64,kernel_size=7,stride=2,padding=3),\n",
    "                 nn.ReLU(),\n",
    "                 nn.MaxPool2d(kernel_size=3,stride=2,padding=1)]\n",
    "        layers+=[nn.Conv2d(in_channels=64,out_channels=64,kernel_size=1),\n",
    "                 nn.Conv2d(in_channels=64,out_channels=192,kernel_size=3,padding=1),\n",
    "                 nn.MaxPool2d(kernel_size=3,stride=2,padding=1)]\n",
    "        layers+=[Inception(192,64,(96,128),(16,32),32),\n",
    "                 Inception(256,128,(128,192),(32,96),64),\n",
    "                 nn.MaxPool2d(kernel_size=3,stride=2,padding=1)]\n",
    "        layers+=[Inception(480, 192, (96, 208), (16, 48), 64),\n",
    "                 Inception(512, 160, (112, 224), (24, 64), 64),\n",
    "                 Inception(512, 128, (128, 256), (24, 64), 64),\n",
    "                 Inception(512, 112, (144, 288), (32, 64), 64),\n",
    "                 Inception(528, 256, (160, 320), (32, 128), 128),\n",
    "               nn.MaxPool2d(kernel_size=3, stride=2, padding=1)]\n",
    "        layers += [Inception(832, 256, (160, 320), (32, 128), 128),\n",
    "                   Inception(832, 384, (192, 384), (48, 128), 128),\n",
    "                   nn.AvgPool2d(kernel_size=2)]\n",
    "        self.net = nn.Sequential(*layers)\n",
    "        self.dense=nn.Linear(1024,num_classes)\n",
    " \n",
    " \n",
    "    def forward(self,x):\n",
    "        x=self.net(x)\n",
    "        x=x.view(-1,1024*1*1)\n",
    "        x=self.dense(x)\n",
    "        return x\n"
   ]
  },
  {
   "cell_type": "code",
   "execution_count": 19,
   "metadata": {
    "execution": {
     "iopub.execute_input": "2022-06-29T01:38:37.317291Z",
     "iopub.status.busy": "2022-06-29T01:38:37.317019Z",
     "iopub.status.idle": "2022-06-29T01:38:37.408546Z",
     "shell.execute_reply": "2022-06-29T01:38:37.407725Z",
     "shell.execute_reply.started": "2022-06-29T01:38:37.317242Z"
    }
   },
   "outputs": [
    {
     "data": {
      "text/plain": [
       "GoogleNet(\n",
       "  (net): Sequential(\n",
       "    (0): Conv2d(1, 64, kernel_size=(7, 7), stride=(2, 2), padding=(3, 3))\n",
       "    (1): ReLU()\n",
       "    (2): MaxPool2d(kernel_size=3, stride=2, padding=1, dilation=1, ceil_mode=False)\n",
       "    (3): Conv2d(64, 64, kernel_size=(1, 1), stride=(1, 1))\n",
       "    (4): Conv2d(64, 192, kernel_size=(3, 3), stride=(1, 1), padding=(1, 1))\n",
       "    (5): MaxPool2d(kernel_size=3, stride=2, padding=1, dilation=1, ceil_mode=False)\n",
       "    (6): Inception(\n",
       "      (norm1_1): BatchNorm2d(192, eps=0.001, momentum=0.1, affine=True, track_running_stats=True)\n",
       "      (p1_1): Conv2d(192, 64, kernel_size=(1, 1), stride=(1, 1))\n",
       "      (norm2_1): BatchNorm2d(192, eps=0.001, momentum=0.1, affine=True, track_running_stats=True)\n",
       "      (p2_1): Conv2d(192, 96, kernel_size=(1, 1), stride=(1, 1))\n",
       "      (norm2_2): BatchNorm2d(96, eps=0.001, momentum=0.1, affine=True, track_running_stats=True)\n",
       "      (p2_2): Conv2d(96, 128, kernel_size=(3, 3), stride=(1, 1), padding=(1, 1))\n",
       "      (norm3_1): BatchNorm2d(192, eps=0.001, momentum=0.1, affine=True, track_running_stats=True)\n",
       "      (p3_1): Conv2d(192, 16, kernel_size=(1, 1), stride=(1, 1))\n",
       "      (norm3_2): BatchNorm2d(16, eps=0.001, momentum=0.1, affine=True, track_running_stats=True)\n",
       "      (p3_2): Conv2d(16, 32, kernel_size=(5, 5), stride=(1, 1), padding=(2, 2))\n",
       "      (p4_1): MaxPool2d(kernel_size=3, stride=1, padding=1, dilation=1, ceil_mode=False)\n",
       "      (norm4_2): BatchNorm2d(192, eps=0.001, momentum=0.1, affine=True, track_running_stats=True)\n",
       "      (p4_2): Conv2d(192, 32, kernel_size=(1, 1), stride=(1, 1))\n",
       "    )\n",
       "    (7): Inception(\n",
       "      (norm1_1): BatchNorm2d(256, eps=0.001, momentum=0.1, affine=True, track_running_stats=True)\n",
       "      (p1_1): Conv2d(256, 128, kernel_size=(1, 1), stride=(1, 1))\n",
       "      (norm2_1): BatchNorm2d(256, eps=0.001, momentum=0.1, affine=True, track_running_stats=True)\n",
       "      (p2_1): Conv2d(256, 128, kernel_size=(1, 1), stride=(1, 1))\n",
       "      (norm2_2): BatchNorm2d(128, eps=0.001, momentum=0.1, affine=True, track_running_stats=True)\n",
       "      (p2_2): Conv2d(128, 192, kernel_size=(3, 3), stride=(1, 1), padding=(1, 1))\n",
       "      (norm3_1): BatchNorm2d(256, eps=0.001, momentum=0.1, affine=True, track_running_stats=True)\n",
       "      (p3_1): Conv2d(256, 32, kernel_size=(1, 1), stride=(1, 1))\n",
       "      (norm3_2): BatchNorm2d(32, eps=0.001, momentum=0.1, affine=True, track_running_stats=True)\n",
       "      (p3_2): Conv2d(32, 96, kernel_size=(5, 5), stride=(1, 1), padding=(2, 2))\n",
       "      (p4_1): MaxPool2d(kernel_size=3, stride=1, padding=1, dilation=1, ceil_mode=False)\n",
       "      (norm4_2): BatchNorm2d(256, eps=0.001, momentum=0.1, affine=True, track_running_stats=True)\n",
       "      (p4_2): Conv2d(256, 64, kernel_size=(1, 1), stride=(1, 1))\n",
       "    )\n",
       "    (8): MaxPool2d(kernel_size=3, stride=2, padding=1, dilation=1, ceil_mode=False)\n",
       "    (9): Inception(\n",
       "      (norm1_1): BatchNorm2d(480, eps=0.001, momentum=0.1, affine=True, track_running_stats=True)\n",
       "      (p1_1): Conv2d(480, 192, kernel_size=(1, 1), stride=(1, 1))\n",
       "      (norm2_1): BatchNorm2d(480, eps=0.001, momentum=0.1, affine=True, track_running_stats=True)\n",
       "      (p2_1): Conv2d(480, 96, kernel_size=(1, 1), stride=(1, 1))\n",
       "      (norm2_2): BatchNorm2d(96, eps=0.001, momentum=0.1, affine=True, track_running_stats=True)\n",
       "      (p2_2): Conv2d(96, 208, kernel_size=(3, 3), stride=(1, 1), padding=(1, 1))\n",
       "      (norm3_1): BatchNorm2d(480, eps=0.001, momentum=0.1, affine=True, track_running_stats=True)\n",
       "      (p3_1): Conv2d(480, 16, kernel_size=(1, 1), stride=(1, 1))\n",
       "      (norm3_2): BatchNorm2d(16, eps=0.001, momentum=0.1, affine=True, track_running_stats=True)\n",
       "      (p3_2): Conv2d(16, 48, kernel_size=(5, 5), stride=(1, 1), padding=(2, 2))\n",
       "      (p4_1): MaxPool2d(kernel_size=3, stride=1, padding=1, dilation=1, ceil_mode=False)\n",
       "      (norm4_2): BatchNorm2d(480, eps=0.001, momentum=0.1, affine=True, track_running_stats=True)\n",
       "      (p4_2): Conv2d(480, 64, kernel_size=(1, 1), stride=(1, 1))\n",
       "    )\n",
       "    (10): Inception(\n",
       "      (norm1_1): BatchNorm2d(512, eps=0.001, momentum=0.1, affine=True, track_running_stats=True)\n",
       "      (p1_1): Conv2d(512, 160, kernel_size=(1, 1), stride=(1, 1))\n",
       "      (norm2_1): BatchNorm2d(512, eps=0.001, momentum=0.1, affine=True, track_running_stats=True)\n",
       "      (p2_1): Conv2d(512, 112, kernel_size=(1, 1), stride=(1, 1))\n",
       "      (norm2_2): BatchNorm2d(112, eps=0.001, momentum=0.1, affine=True, track_running_stats=True)\n",
       "      (p2_2): Conv2d(112, 224, kernel_size=(3, 3), stride=(1, 1), padding=(1, 1))\n",
       "      (norm3_1): BatchNorm2d(512, eps=0.001, momentum=0.1, affine=True, track_running_stats=True)\n",
       "      (p3_1): Conv2d(512, 24, kernel_size=(1, 1), stride=(1, 1))\n",
       "      (norm3_2): BatchNorm2d(24, eps=0.001, momentum=0.1, affine=True, track_running_stats=True)\n",
       "      (p3_2): Conv2d(24, 64, kernel_size=(5, 5), stride=(1, 1), padding=(2, 2))\n",
       "      (p4_1): MaxPool2d(kernel_size=3, stride=1, padding=1, dilation=1, ceil_mode=False)\n",
       "      (norm4_2): BatchNorm2d(512, eps=0.001, momentum=0.1, affine=True, track_running_stats=True)\n",
       "      (p4_2): Conv2d(512, 64, kernel_size=(1, 1), stride=(1, 1))\n",
       "    )\n",
       "    (11): Inception(\n",
       "      (norm1_1): BatchNorm2d(512, eps=0.001, momentum=0.1, affine=True, track_running_stats=True)\n",
       "      (p1_1): Conv2d(512, 128, kernel_size=(1, 1), stride=(1, 1))\n",
       "      (norm2_1): BatchNorm2d(512, eps=0.001, momentum=0.1, affine=True, track_running_stats=True)\n",
       "      (p2_1): Conv2d(512, 128, kernel_size=(1, 1), stride=(1, 1))\n",
       "      (norm2_2): BatchNorm2d(128, eps=0.001, momentum=0.1, affine=True, track_running_stats=True)\n",
       "      (p2_2): Conv2d(128, 256, kernel_size=(3, 3), stride=(1, 1), padding=(1, 1))\n",
       "      (norm3_1): BatchNorm2d(512, eps=0.001, momentum=0.1, affine=True, track_running_stats=True)\n",
       "      (p3_1): Conv2d(512, 24, kernel_size=(1, 1), stride=(1, 1))\n",
       "      (norm3_2): BatchNorm2d(24, eps=0.001, momentum=0.1, affine=True, track_running_stats=True)\n",
       "      (p3_2): Conv2d(24, 64, kernel_size=(5, 5), stride=(1, 1), padding=(2, 2))\n",
       "      (p4_1): MaxPool2d(kernel_size=3, stride=1, padding=1, dilation=1, ceil_mode=False)\n",
       "      (norm4_2): BatchNorm2d(512, eps=0.001, momentum=0.1, affine=True, track_running_stats=True)\n",
       "      (p4_2): Conv2d(512, 64, kernel_size=(1, 1), stride=(1, 1))\n",
       "    )\n",
       "    (12): Inception(\n",
       "      (norm1_1): BatchNorm2d(512, eps=0.001, momentum=0.1, affine=True, track_running_stats=True)\n",
       "      (p1_1): Conv2d(512, 112, kernel_size=(1, 1), stride=(1, 1))\n",
       "      (norm2_1): BatchNorm2d(512, eps=0.001, momentum=0.1, affine=True, track_running_stats=True)\n",
       "      (p2_1): Conv2d(512, 144, kernel_size=(1, 1), stride=(1, 1))\n",
       "      (norm2_2): BatchNorm2d(144, eps=0.001, momentum=0.1, affine=True, track_running_stats=True)\n",
       "      (p2_2): Conv2d(144, 288, kernel_size=(3, 3), stride=(1, 1), padding=(1, 1))\n",
       "      (norm3_1): BatchNorm2d(512, eps=0.001, momentum=0.1, affine=True, track_running_stats=True)\n",
       "      (p3_1): Conv2d(512, 32, kernel_size=(1, 1), stride=(1, 1))\n",
       "      (norm3_2): BatchNorm2d(32, eps=0.001, momentum=0.1, affine=True, track_running_stats=True)\n",
       "      (p3_2): Conv2d(32, 64, kernel_size=(5, 5), stride=(1, 1), padding=(2, 2))\n",
       "      (p4_1): MaxPool2d(kernel_size=3, stride=1, padding=1, dilation=1, ceil_mode=False)\n",
       "      (norm4_2): BatchNorm2d(512, eps=0.001, momentum=0.1, affine=True, track_running_stats=True)\n",
       "      (p4_2): Conv2d(512, 64, kernel_size=(1, 1), stride=(1, 1))\n",
       "    )\n",
       "    (13): Inception(\n",
       "      (norm1_1): BatchNorm2d(528, eps=0.001, momentum=0.1, affine=True, track_running_stats=True)\n",
       "      (p1_1): Conv2d(528, 256, kernel_size=(1, 1), stride=(1, 1))\n",
       "      (norm2_1): BatchNorm2d(528, eps=0.001, momentum=0.1, affine=True, track_running_stats=True)\n",
       "      (p2_1): Conv2d(528, 160, kernel_size=(1, 1), stride=(1, 1))\n",
       "      (norm2_2): BatchNorm2d(160, eps=0.001, momentum=0.1, affine=True, track_running_stats=True)\n",
       "      (p2_2): Conv2d(160, 320, kernel_size=(3, 3), stride=(1, 1), padding=(1, 1))\n",
       "      (norm3_1): BatchNorm2d(528, eps=0.001, momentum=0.1, affine=True, track_running_stats=True)\n",
       "      (p3_1): Conv2d(528, 32, kernel_size=(1, 1), stride=(1, 1))\n",
       "      (norm3_2): BatchNorm2d(32, eps=0.001, momentum=0.1, affine=True, track_running_stats=True)\n",
       "      (p3_2): Conv2d(32, 128, kernel_size=(5, 5), stride=(1, 1), padding=(2, 2))\n",
       "      (p4_1): MaxPool2d(kernel_size=3, stride=1, padding=1, dilation=1, ceil_mode=False)\n",
       "      (norm4_2): BatchNorm2d(528, eps=0.001, momentum=0.1, affine=True, track_running_stats=True)\n",
       "      (p4_2): Conv2d(528, 128, kernel_size=(1, 1), stride=(1, 1))\n",
       "    )\n",
       "    (14): MaxPool2d(kernel_size=3, stride=2, padding=1, dilation=1, ceil_mode=False)\n",
       "    (15): Inception(\n",
       "      (norm1_1): BatchNorm2d(832, eps=0.001, momentum=0.1, affine=True, track_running_stats=True)\n",
       "      (p1_1): Conv2d(832, 256, kernel_size=(1, 1), stride=(1, 1))\n",
       "      (norm2_1): BatchNorm2d(832, eps=0.001, momentum=0.1, affine=True, track_running_stats=True)\n",
       "      (p2_1): Conv2d(832, 160, kernel_size=(1, 1), stride=(1, 1))\n",
       "      (norm2_2): BatchNorm2d(160, eps=0.001, momentum=0.1, affine=True, track_running_stats=True)\n",
       "      (p2_2): Conv2d(160, 320, kernel_size=(3, 3), stride=(1, 1), padding=(1, 1))\n",
       "      (norm3_1): BatchNorm2d(832, eps=0.001, momentum=0.1, affine=True, track_running_stats=True)\n",
       "      (p3_1): Conv2d(832, 32, kernel_size=(1, 1), stride=(1, 1))\n",
       "      (norm3_2): BatchNorm2d(32, eps=0.001, momentum=0.1, affine=True, track_running_stats=True)\n",
       "      (p3_2): Conv2d(32, 128, kernel_size=(5, 5), stride=(1, 1), padding=(2, 2))\n",
       "      (p4_1): MaxPool2d(kernel_size=3, stride=1, padding=1, dilation=1, ceil_mode=False)\n",
       "      (norm4_2): BatchNorm2d(832, eps=0.001, momentum=0.1, affine=True, track_running_stats=True)\n",
       "      (p4_2): Conv2d(832, 128, kernel_size=(1, 1), stride=(1, 1))\n",
       "    )\n",
       "    (16): Inception(\n",
       "      (norm1_1): BatchNorm2d(832, eps=0.001, momentum=0.1, affine=True, track_running_stats=True)\n",
       "      (p1_1): Conv2d(832, 384, kernel_size=(1, 1), stride=(1, 1))\n",
       "      (norm2_1): BatchNorm2d(832, eps=0.001, momentum=0.1, affine=True, track_running_stats=True)\n",
       "      (p2_1): Conv2d(832, 192, kernel_size=(1, 1), stride=(1, 1))\n",
       "      (norm2_2): BatchNorm2d(192, eps=0.001, momentum=0.1, affine=True, track_running_stats=True)\n",
       "      (p2_2): Conv2d(192, 384, kernel_size=(3, 3), stride=(1, 1), padding=(1, 1))\n",
       "      (norm3_1): BatchNorm2d(832, eps=0.001, momentum=0.1, affine=True, track_running_stats=True)\n",
       "      (p3_1): Conv2d(832, 48, kernel_size=(1, 1), stride=(1, 1))\n",
       "      (norm3_2): BatchNorm2d(48, eps=0.001, momentum=0.1, affine=True, track_running_stats=True)\n",
       "      (p3_2): Conv2d(48, 128, kernel_size=(5, 5), stride=(1, 1), padding=(2, 2))\n",
       "      (p4_1): MaxPool2d(kernel_size=3, stride=1, padding=1, dilation=1, ceil_mode=False)\n",
       "      (norm4_2): BatchNorm2d(832, eps=0.001, momentum=0.1, affine=True, track_running_stats=True)\n",
       "      (p4_2): Conv2d(832, 128, kernel_size=(1, 1), stride=(1, 1))\n",
       "    )\n",
       "    (17): AvgPool2d(kernel_size=2, stride=2, padding=0)\n",
       "  )\n",
       "  (dense): Linear(in_features=1024, out_features=10, bias=True)\n",
       ")"
      ]
     },
     "execution_count": 19,
     "metadata": {},
     "output_type": "execute_result"
    }
   ],
   "source": [
    "\n",
    "model=GoogleNet(1,10).cuda()\n",
    "error = nn.CrossEntropyLoss()\n",
    "\n",
    "learning_rate = 0.001\n",
    "optimizer = torch.optim.Adam(model.parameters(), lr=learning_rate)\n",
    "if(torch.cuda.is_available()):\n",
    "    model = model.cuda()\n",
    "    \n",
    "model.to(device)\n",
    "\n"
   ]
  },
  {
   "cell_type": "code",
   "execution_count": 20,
   "metadata": {},
   "outputs": [],
   "source": []
  },
  {
   "cell_type": "markdown",
   "metadata": {},
   "source": [
    "**ALEX NET**"
   ]
  },
  {
   "cell_type": "code",
   "execution_count": 20,
   "metadata": {
    "execution": {
     "iopub.execute_input": "2022-06-29T02:23:30.386508Z",
     "iopub.status.busy": "2022-06-29T02:23:30.38623Z",
     "iopub.status.idle": "2022-06-29T02:23:31.464934Z",
     "shell.execute_reply": "2022-06-29T02:23:31.464108Z",
     "shell.execute_reply.started": "2022-06-29T02:23:30.386458Z"
    }
   },
   "outputs": [
    {
     "name": "stderr",
     "output_type": "stream",
     "text": [
      "Downloading: \"https://download.pytorch.org/models/alexnet-owt-4df8aa71.pth\" to /root/.torch/models/alexnet-owt-4df8aa71.pth\n",
      "244418560it [00:06, 35209505.75it/s]\n"
     ]
    }
   ],
   "source": [
    "model=models.alexnet(pretrained=True)"
   ]
  },
  {
   "cell_type": "code",
   "execution_count": 21,
   "metadata": {
    "execution": {
     "iopub.execute_input": "2022-06-29T02:23:44.47035Z",
     "iopub.status.busy": "2022-06-29T02:23:44.470084Z",
     "iopub.status.idle": "2022-06-29T02:23:44.539437Z",
     "shell.execute_reply": "2022-06-29T02:23:44.538497Z",
     "shell.execute_reply.started": "2022-06-29T02:23:44.470301Z"
    }
   },
   "outputs": [
    {
     "data": {
      "text/plain": [
       "AlexNet(\n",
       "  (features): Sequential(\n",
       "    (0): Conv2d(1, 64, kernel_size=(7, 7), stride=(2, 2), padding=(3, 3))\n",
       "    (1): ReLU(inplace)\n",
       "    (2): MaxPool2d(kernel_size=3, stride=2, padding=0, dilation=1, ceil_mode=False)\n",
       "    (3): Conv2d(64, 192, kernel_size=(5, 5), stride=(1, 1), padding=(2, 2))\n",
       "    (4): ReLU(inplace)\n",
       "    (5): MaxPool2d(kernel_size=3, stride=2, padding=0, dilation=1, ceil_mode=False)\n",
       "    (6): Conv2d(192, 384, kernel_size=(3, 3), stride=(1, 1), padding=(1, 1))\n",
       "    (7): ReLU(inplace)\n",
       "    (8): Conv2d(384, 256, kernel_size=(3, 3), stride=(1, 1), padding=(1, 1))\n",
       "    (9): ReLU(inplace)\n",
       "    (10): Conv2d(256, 256, kernel_size=(3, 3), stride=(1, 1), padding=(1, 1))\n",
       "    (11): ReLU(inplace)\n",
       "    (12): MaxPool2d(kernel_size=3, stride=2, padding=0, dilation=1, ceil_mode=False)\n",
       "  )\n",
       "  (avgpool): AdaptiveAvgPool2d(output_size=(6, 6))\n",
       "  (classifier): Sequential(\n",
       "    (0): Dropout(p=0.5)\n",
       "    (1): Linear(in_features=9216, out_features=4096, bias=True)\n",
       "    (2): ReLU(inplace)\n",
       "    (3): Dropout(p=0.5)\n",
       "    (4): Linear(in_features=4096, out_features=4096, bias=True)\n",
       "    (5): ReLU(inplace)\n",
       "    (6): Linear(in_features=4096, out_features=10, bias=True)\n",
       "  )\n",
       ")"
      ]
     },
     "execution_count": 21,
     "metadata": {},
     "output_type": "execute_result"
    }
   ],
   "source": [
    "model.features[0]=nn.Conv2d(1, 64, kernel_size=(7, 7), stride=(2, 2), padding=(3, 3))\n",
    "model.classifier[6]=nn.Linear(in_features=4096, out_features=10, bias=True)\n",
    "error = nn.CrossEntropyLoss()\n",
    "learning_rate = 0.001\n",
    "optimizer = torch.optim.Adam(model.parameters(), lr=learning_rate)\n",
    "if(torch.cuda.is_available()):\n",
    "    model = model.cuda()\n",
    "    \n",
    "model.to(device)\n"
   ]
  },
  {
   "cell_type": "code",
   "execution_count": 22,
   "metadata": {},
   "outputs": [],
   "source": []
  },
  {
   "cell_type": "code",
   "execution_count": 22,
   "metadata": {},
   "outputs": [],
   "source": []
  },
  {
   "cell_type": "code",
   "execution_count": 22,
   "metadata": {},
   "outputs": [],
   "source": []
  },
  {
   "cell_type": "markdown",
   "metadata": {
    "id": "im58ZlvMvkty"
   },
   "source": [
    "## Training a network and Testing it on test dataset"
   ]
  },
  {
   "cell_type": "code",
   "execution_count": 22,
   "metadata": {
    "execution": {
     "iopub.execute_input": "2022-06-29T02:23:54.255007Z",
     "iopub.status.busy": "2022-06-29T02:23:54.254729Z",
     "iopub.status.idle": "2022-06-29T02:28:36.3138Z",
     "shell.execute_reply": "2022-06-29T02:28:36.31304Z",
     "shell.execute_reply.started": "2022-06-29T02:23:54.254959Z"
    },
    "id": "SYh_6HtpUlNl",
    "outputId": "b92aa41b-4cbf-4ceb-c63c-7d2a3999df87"
   },
   "outputs": [
    {
     "name": "stdout",
     "output_type": "stream",
     "text": [
      "Iteration: 500, Loss: 2.2991783618927, Accuracy: 10%\n",
      "Iteration: 1000, Loss: 2.2957711219787598, Accuracy: 9%\n",
      "Iteration: 1500, Loss: 2.307579278945923, Accuracy: 10%\n",
      "Iteration: 2000, Loss: 2.3003411293029785, Accuracy: 10%\n",
      "Iteration: 2500, Loss: 2.301276683807373, Accuracy: 10%\n",
      "Iteration: 3000, Loss: 2.306760787963867, Accuracy: 10%\n"
     ]
    }
   ],
   "source": [
    "num_epochs = 5\n",
    "count = 0\n",
    "# Lists for visualization of loss and accuracy \n",
    "loss_list = []\n",
    "iteration_list = []\n",
    "accuracy_list = []\n",
    "\n",
    "# Lists for knowing classwise accuracy\n",
    "predictions_list = []\n",
    "labels_list = []\n",
    "\n",
    "for epoch in range(num_epochs):\n",
    "    for images, labels in train_loader:\n",
    "        # Transfering images and labels to GPU if available\n",
    "        images, labels = images.to(device), labels.to(device)\n",
    "    \n",
    "        train = Variable(images.view(100, 1, 28, 28))\n",
    "        labels = Variable(labels)\n",
    "        \n",
    "        # Forward pass \n",
    "        outputs = model(train)\n",
    "        loss = error(outputs, labels)\n",
    "        \n",
    "        # Initializing a gradient as 0 so there is no mixing of gradient among the batches\n",
    "        optimizer.zero_grad()\n",
    "        \n",
    "        #Propagating the error backward\n",
    "        loss.backward()\n",
    "        \n",
    "        # Optimizing the parameters\n",
    "        optimizer.step()\n",
    "    \n",
    "        count += 1\n",
    "    \n",
    "    # Testing the model\n",
    "    \n",
    "        if not (count % 50):    # It's same as \"if count % 50 == 0\"\n",
    "            total = 0\n",
    "            correct = 0\n",
    "        \n",
    "            for images, labels in test_loader:\n",
    "                images, labels = images.to(device), labels.to(device)\n",
    "                labels_list.append(labels)\n",
    "            \n",
    "                test = Variable(images.view(100, 1, 28, 28))\n",
    "            \n",
    "                outputs = model(test)\n",
    "            \n",
    "                predictions = torch.max(outputs, 1)[1].to(device)\n",
    "                predictions_list.append(predictions)\n",
    "                correct += (predictions == labels).sum()\n",
    "            \n",
    "                total += len(labels)\n",
    "            \n",
    "            accuracy = correct * 100 / total\n",
    "            loss_list.append(loss.data)\n",
    "            iteration_list.append(count)\n",
    "            accuracy_list.append(accuracy)\n",
    "        \n",
    "        if not (count % 500):\n",
    "            print(\"Iteration: {}, Loss: {}, Accuracy: {}%\".format(count, loss.data, accuracy))\n"
   ]
  },
  {
   "cell_type": "markdown",
   "metadata": {
    "id": "1xm9MZ6O0irC"
   },
   "source": [
    "### Visualizing the Loss and Accuracy with Iterations\n"
   ]
  },
  {
   "cell_type": "code",
   "execution_count": 23,
   "metadata": {
    "execution": {
     "iopub.execute_input": "2022-06-29T02:29:28.374191Z",
     "iopub.status.busy": "2022-06-29T02:29:28.373909Z",
     "iopub.status.idle": "2022-06-29T02:29:28.620859Z",
     "shell.execute_reply": "2022-06-29T02:29:28.620049Z",
     "shell.execute_reply.started": "2022-06-29T02:29:28.374143Z"
    },
    "id": "4s4cGX4Hanyz",
    "outputId": "4f19caa4-327f-4cca-bd9f-726774b9ddfd"
   },
   "outputs": [
    {
     "data": {
      "image/png": "[encoded data removed]",
      "text/plain": [
       "<Figure size 432x288 with 1 Axes>"
      ]
     },
     "metadata": {},
     "output_type": "display_data"
    }
   ],
   "source": [
    "plt.plot(iteration_list, loss_list)\n",
    "plt.xlabel(\"No. of Iteration\")\n",
    "plt.ylabel(\"Loss\")\n",
    "plt.title(\"Iterations vs Loss\")\n",
    "plt.show()"
   ]
  },
  {
   "cell_type": "code",
   "execution_count": 24,
   "metadata": {
    "execution": {
     "iopub.execute_input": "2022-06-29T02:29:32.870625Z",
     "iopub.status.busy": "2022-06-29T02:29:32.870331Z",
     "iopub.status.idle": "2022-06-29T02:29:33.11123Z",
     "shell.execute_reply": "2022-06-29T02:29:33.110415Z",
     "shell.execute_reply.started": "2022-06-29T02:29:32.870554Z"
    },
    "id": "TtsjkmY8qo_t",
    "outputId": "18a10340-f465-4c80-db26-cdce0201e347"
   },
   "outputs": [
    {
     "data": {
      "image/png": "[encoded data removed]",
      "text/plain": [
       "<Figure size 432x288 with 1 Axes>"
      ]
     },
     "metadata": {},
     "output_type": "display_data"
    }
   ],
   "source": [
    "plt.plot(iteration_list, accuracy_list)\n",
    "plt.xlabel(\"No. of Iteration\")\n",
    "plt.ylabel(\"Accuracy\")\n",
    "plt.title(\"Iterations vs Accuracy\")\n",
    "plt.show()"
   ]
  },
  {
   "cell_type": "markdown",
   "metadata": {
    "id": "mZTkzUKn0vq3"
   },
   "source": [
    "### Looking the Accuracy in each class of FashionMNIST dataset"
   ]
  },
  {
   "cell_type": "code",
   "execution_count": 25,
   "metadata": {
    "execution": {
     "iopub.execute_input": "2022-06-29T01:57:06.157451Z",
     "iopub.status.busy": "2022-06-29T01:57:06.157169Z",
     "iopub.status.idle": "2022-06-29T01:57:18.986017Z",
     "shell.execute_reply": "2022-06-29T01:57:18.985348Z",
     "shell.execute_reply.started": "2022-06-29T01:57:06.157398Z"
    },
    "id": "Mq9_qes8Qg6h",
    "outputId": "fd7e3194-d5ab-4c3d-8693-ced0369df983"
   },
   "outputs": [
    {
     "name": "stdout",
     "output_type": "stream",
     "text": [
      "Accuracy of T-shirt/Top: 1.55%\n",
      "Accuracy of Trouser: 5.08%\n",
      "Accuracy of Pullover: 18.65%\n",
      "Accuracy of Dress: 6.08%\n",
      "Accuracy of Coat: 1.43%\n",
      "Accuracy of Sandal: 0.00%\n",
      "Accuracy of Shirt: 0.00%\n",
      "Accuracy of Sneaker: 8.22%\n",
      "Accuracy of Bag: 0.85%\n",
      "Accuracy of Ankle Boot: 57.95%\n"
     ]
    }
   ],
   "source": [
    "class_correct = [0. for _ in range(10)]\n",
    "total_correct = [0. for _ in range(10)]\n",
    "\n",
    "with torch.no_grad():\n",
    "    for images, labels in test_loader:\n",
    "        images, labels = images.to(device), labels.to(device)\n",
    "        test = Variable(images)\n",
    "        outputs = model(test)\n",
    "        predicted = torch.max(outputs, 1)[1]\n",
    "        c = (predicted == labels).squeeze()\n",
    "        \n",
    "        for i in range(100):\n",
    "            label = labels[i]\n",
    "            class_correct[label] += c[i].item()\n",
    "            total_correct[label] += 1\n",
    "        \n",
    "for i in range(10):\n",
    "    print(\"Accuracy of {}: {:.2f}%\".format(output_label(i), class_correct[i] * 100 / total_correct[i]))"
   ]
  },
  {
   "cell_type": "markdown",
   "metadata": {
    "id": "ZxZhix0v0_KZ"
   },
   "source": [
    "### Printing the Confusion Matrix "
   ]
  },
  {
   "cell_type": "code",
   "execution_count": 26,
   "metadata": {
    "execution": {
     "iopub.execute_input": "2022-06-29T01:59:21.500506Z",
     "iopub.status.busy": "2022-06-29T01:59:21.500233Z",
     "iopub.status.idle": "2022-06-29T01:59:22.81921Z",
     "shell.execute_reply": "2022-06-29T01:59:22.818364Z",
     "shell.execute_reply.started": "2022-06-29T01:59:21.500455Z"
    },
    "id": "GXme4c22cii2"
   },
   "outputs": [],
   "source": [
    "from itertools import chain \n",
    "\n",
    "predictions_l = [predictions_list[i].tolist() for i in range(len(predictions_list))]\n",
    "labels_l = [labels_list[i].tolist() for i in range(len(labels_list))]\n",
    "predictions_l = list(chain.from_iterable(predictions_l))\n",
    "labels_l = list(chain.from_iterable(labels_l))"
   ]
  },
  {
   "cell_type": "code",
   "execution_count": 27,
   "metadata": {
    "execution": {
     "iopub.execute_input": "2022-06-29T01:59:26.70753Z",
     "iopub.status.busy": "2022-06-29T01:59:26.70725Z",
     "iopub.status.idle": "2022-06-29T01:59:44.976448Z",
     "shell.execute_reply": "2022-06-29T01:59:44.975782Z",
     "shell.execute_reply.started": "2022-06-29T01:59:26.707482Z"
    },
    "id": "ft-Qlbb5bl0A",
    "outputId": "5665491d-d6ee-4891-95ff-2749de05a110"
   },
   "outputs": [
    {
     "name": "stdout",
     "output_type": "stream",
     "text": [
      "Classification report for CNN :\n",
      "              precision    recall  f1-score   support\n",
      "\n",
      "           0       0.10      0.09      0.10    360000\n",
      "           1       0.10      0.06      0.08    360000\n",
      "           2       0.10      0.12      0.11    360000\n",
      "           3       0.10      0.01      0.01    360000\n",
      "           4       0.10      0.20      0.13    360000\n",
      "           5       0.10      0.08      0.09    360000\n",
      "           6       0.10      0.05      0.07    360000\n",
      "           7       0.10      0.13      0.11    360000\n",
      "           8       0.10      0.12      0.11    360000\n",
      "           9       0.10      0.14      0.12    360000\n",
      "\n",
      "   micro avg       0.10      0.10      0.10   3600000\n",
      "   macro avg       0.10      0.10      0.09   3600000\n",
      "weighted avg       0.10      0.10      0.09   3600000\n",
      "\n",
      "\n"
     ]
    }
   ],
   "source": [
    "import sklearn.metrics as metrics\n",
    "\n",
    "confusion_matrix(labels_l, predictions_l)\n",
    "print(\"Classification report for CNN :\\n%s\\n\"\n",
    "      % (metrics.classification_report(labels_l, predictions_l)))"
   ]
  },
  {
   "cell_type": "markdown",
   "metadata": {
    "id": "4Y9pGNv64UYl"
   },
   "source": [
    "### This is my implementation of deep learning in FashionMNIST dataset using Pytorch. I've achieved 93% test accuracy. Change those layer architecture or parameters to make it better. \n",
    "***I hope you like it. Give your feedback. It helps me to a lot. Thank you. :)***"
   ]
  }
 ],
 "metadata": {
  "kernelspec": {
   "display_name": "Python 3",
   "language": "python",
   "name": "python3"
  },
  "language_info": {
   "codemirror_mode": {
    "name": "ipython",
    "version": 3
   },
   "file_extension": ".py",
   "mimetype": "text/x-python",
   "name": "python",
   "nbconvert_exporter": "python",
   "pygments_lexer": "ipython3",
   "version": "3.6.4"
  }
 },
 "nbformat": 4,
 "nbformat_minor": 4
}
